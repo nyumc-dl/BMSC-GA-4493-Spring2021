{
 "cells": [
  {
   "cell_type": "markdown",
   "metadata": {},
   "source": [
    "# Lab 7: Optimization and Regularization \n",
    "\n",
    "Authored by Nithish Addepalli and Ren Yi, 3-26-2020;\n",
    "Modified by Runyu Hong, 3-25-2021;\n",
    "\n",
    "The goal of this lab is to learn how to apply different regularization and optimization strategies in PyTorch using MNIST data.\n",
    "\n",
    "Here is a list of the techniques we've covered in class\n",
    "- Optimization\n",
    "    - SGD\n",
    "    - SGD (with momentum)\n",
    "    - Nesterov momentum\n",
    "    - AdaGrad\n",
    "    - RMSProp\n",
    "    - Adam\n",
    "- Some regularization\n",
    "    - Dropout\n",
    "    - Batch normalization\n",
    "\n",
    " "
   ]
  },
  {
   "cell_type": "markdown",
   "metadata": {},
   "source": [
    "## Problem Setup"
   ]
  },
  {
   "cell_type": "code",
   "execution_count": 1,
   "metadata": {},
   "outputs": [],
   "source": [
    "import time\n",
    "import numpy as np\n",
    "import copy\n",
    "import torch\n",
    "import torch.nn as nn\n",
    "import torch.nn.functional as F\n",
    "import torch.optim as optim\n",
    "from torchvision import datasets, transforms\n",
    "import matplotlib.pyplot as plt\n",
    "%matplotlib inline"
   ]
  },
  {
   "cell_type": "code",
   "execution_count": 2,
   "metadata": {},
   "outputs": [],
   "source": [
    "# Initialize necessary parameters\n",
    "device = torch.device(\"cuda\" if torch.cuda.is_available() else \"cpu\")\n",
    "# if torch.cuda.is_available():\n",
    "#     torch.cuda.manual_seed(717)\n",
    "\n",
    "seed = 345\n",
    "batch_size = {'train': 64,\n",
    "              'val': 1000}\n",
    "input_size = 28 * 28\n",
    "output_size = 10\n",
    "n_feature = 3\n",
    "optim_results = {}"
   ]
  },
  {
   "cell_type": "code",
   "execution_count": 3,
   "metadata": {},
   "outputs": [],
   "source": [
    "# Data Loader\n",
    "trainset = datasets.MNIST('data', train=True, download=True,\n",
    "                          transform=transforms.Compose([\n",
    "                              transforms.ToTensor(),\n",
    "                              transforms.Normalize((0.1307,), (0.3081,))]))\n",
    "testset = datasets.MNIST('data', train=False, \n",
    "                         transform=transforms.Compose([\n",
    "                             transforms.ToTensor(),\n",
    "                             transforms.Normalize((0.1307,), (0.3081,))]))\n",
    "\n",
    "mnist_datasets = {'train': trainset, \n",
    "            'val': testset}\n",
    "dataset_sizes = {x: len(mnist_datasets[x]) for x in ['train', 'val']}\n",
    "dataloaders = {x: torch.utils.data.DataLoader(mnist_datasets[x], batch_size=batch_size[x], shuffle=True)\n",
    "              for x in ['train', 'val']}"
   ]
  },
  {
   "cell_type": "code",
   "execution_count": 4,
   "metadata": {},
   "outputs": [
    {
     "data": {
      "image/png": "[encoded data removed]",
      "text/plain": [
       "<Figure size 864x576 with 10 Axes>"
      ]
     },
     "metadata": {
      "needs_background": "light"
     },
     "output_type": "display_data"
    }
   ],
   "source": [
    "## show some images\n",
    "plt.figure(figsize = (12, 8))\n",
    "for i in range(10):\n",
    "    plt.subplot(2, 5, i + 1)\n",
    "    image, _ = dataloaders['train'].dataset.__getitem__(i)\n",
    "    plt.imshow(image.squeeze().numpy())"
   ]
  },
  {
   "cell_type": "code",
   "execution_count": 5,
   "metadata": {},
   "outputs": [],
   "source": [
    "def train_model(model, optimizer, num_epochs=1, verbose = True, print_every = 100):\n",
    "    since = time.time()\n",
    "\n",
    "    best_model_wts = copy.deepcopy(model.state_dict())\n",
    "    best_acc = 0.0\n",
    "    loss_dict = {'train': [], 'val': []}\n",
    "    \n",
    "    criterion = nn.CrossEntropyLoss()\n",
    "\n",
    "    for epoch in range(num_epochs):\n",
    "        print('Epoch {}/{}'.format(epoch, num_epochs - 1))\n",
    "        print('-' * 10)\n",
    "\n",
    "        # Each epoch has a training and validation phase\n",
    "        for phase in ['train', 'val']:\n",
    "            if phase == 'train':\n",
    "                model.train(True)  # Set model to training mode\n",
    "            else:\n",
    "                model.train(False)  # Set model to evaluate mode\n",
    "\n",
    "            running_loss = 0.0\n",
    "            running_corrects = 0\n",
    "\n",
    "            # Iterate over data.\n",
    "            for batch_idx, data in enumerate(dataloaders[phase]):\n",
    "                # get the inputs\n",
    "                inputs, labels = data\n",
    "\n",
    "                inputs = inputs.to(device)\n",
    "                labels = labels.to(device)\n",
    "\n",
    "                # zero the parameter gradients\n",
    "                optimizer.zero_grad()\n",
    "\n",
    "                # forward\n",
    "                with torch.set_grad_enabled(phase == 'train'):\n",
    "                    outputs = model(inputs)\n",
    "                    _, preds = torch.max(outputs, 1)\n",
    "                    loss = criterion(outputs, labels)\n",
    "                \n",
    "                # backward + optimize only if in training phase\n",
    "                if phase == 'train':\n",
    "                    loss.backward()\n",
    "                    optimizer.step()\n",
    "\n",
    "                # statistics\n",
    "                running_loss += loss.item() * inputs.size()[0]\n",
    "                running_corrects += torch.sum(preds == labels).item()\n",
    "                \n",
    "                if verbose and batch_idx % print_every == 0:\n",
    "                    print('Train set | epoch: {:3d} | {:6d}/{:6d} batches | Loss: {:6.4f}'.format(\n",
    "                        epoch, batch_idx * len(inputs), len(dataloaders[phase].dataset), loss.item()))\n",
    "                    loss_dict[phase].append(running_loss/((batch_idx + 1) * len(inputs)))\n",
    "\n",
    "            epoch_loss = running_loss / dataset_sizes[phase]\n",
    "            epoch_acc = running_corrects / dataset_sizes[phase]\n",
    "            loss_dict[phase].append(epoch_loss)\n",
    "\n",
    "            print('{} Loss: {:.4f} Acc: {:.4f}'.format(phase, epoch_loss, epoch_acc))\n",
    "\n",
    "            # deep copy the model\n",
    "            if phase == 'val' and epoch_acc > best_acc:\n",
    "                best_acc = epoch_acc\n",
    "                best_model_wts = copy.deepcopy(model.state_dict())\n",
    "        print()\n",
    "\n",
    "    time_elapsed = time.time() - since\n",
    "    print('Training complete in {:.0f}m {:.0f}s'.format(\n",
    "        time_elapsed // 60, time_elapsed % 60))\n",
    "    print('Best val Acc: {:4f}'.format(best_acc))\n",
    "\n",
    "    # load best model weights\n",
    "    model.load_state_dict(best_model_wts)\n",
    "    return model, loss_dict\n",
    "\n",
    "def populate_result(dictionary, method, train_loss, val_loss):\n",
    "    dictionary[method] = {}\n",
    "    dictionary[method]['train_loss'] = np.array(train_loss)\n",
    "    dictionary[method]['val_loss'] = np.array(val_loss)\n",
    "    \n",
    "def plot_loss(result, loss='train_loss', ylim=None):\n",
    "    plt.plot(result['Baseline'][loss], label='Baseline')\n",
    "    for k in result.keys():\n",
    "        if k != 'Baseline':\n",
    "            plt.plot(result[k][loss], label=k)\n",
    "    if ylim is not None:\n",
    "        plt.ylim(ylim)\n",
    "    plt.xlabel('Steps')\n",
    "    plt.ylabel('Loss')\n",
    "    plt.legend()\n",
    "    plt.show()\n",
    "    \n",
    "def plot_best_loss(result, loss='val_loss'):\n",
    "    labels = ['Baseline']\n",
    "    acc = [np.max(result['Baseline'][loss])]\n",
    "    for k in result.keys():\n",
    "        if k != 'Baseline':\n",
    "            labels.append(k)\n",
    "            acc.append(np.max(result[k][loss]))\n",
    "\n",
    "    x = np.arange(len(labels))\n",
    "    plt.barh(x, acc)\n",
    "    plt.yticks(x, labels)\n",
    "    plt.xlabel('Loss')\n",
    "    plt.show()"
   ]
  },
  {
   "cell_type": "markdown",
   "metadata": {},
   "source": [
    "### Baseline method\n",
    "\n",
    "We will later show how different optimization and regularization techniques can improve baseline model performance. But first,\n",
    "1. What's our baseline model architecture?\n",
    "2. What's the optimization method used to train the baseline model?\n",
    "3. How does this optimization method update its parameters.\n",
    "$$\\theta_{t+1} = \\theta_{t} - \\eta \\nabla J(\\theta_{t})$$\n",
    "where $\\eta$ denotes the learning rate"
   ]
  },
  {
   "cell_type": "code",
   "execution_count": 6,
   "metadata": {},
   "outputs": [],
   "source": [
    "class Baseline(nn.Module):\n",
    "    def __init__(self, n_feature, output_size):\n",
    "        super(Baseline, self).__init__()\n",
    "        self.n_feature = n_feature\n",
    "        self.conv1 = nn.Sequential(nn.Conv2d(1, n_feature, kernel_size=5),\n",
    "                                   nn.ReLU(),\n",
    "                                   nn.MaxPool2d(2))\n",
    "        self.conv2 = nn.Sequential(nn.Conv2d(n_feature, n_feature, kernel_size=5),\n",
    "                                   nn.ReLU(),\n",
    "                                   nn.MaxPool2d(2))\n",
    "        self.fc = nn.Sequential(nn.Linear(n_feature*4*4, 50),\n",
    "                                nn.ReLU(),\n",
    "                                nn.Linear(50, 10))\n",
    "\n",
    "\n",
    "    def forward(self, x, verbose=False):\n",
    "        x = self.conv1(x)\n",
    "        x = self.conv2(x)\n",
    "        x = x.view(-1, self.n_feature*4*4)\n",
    "        x = self.fc(x)\n",
    "        return x"
   ]
  },
  {
   "cell_type": "code",
   "execution_count": 7,
   "metadata": {},
   "outputs": [
    {
     "name": "stdout",
     "output_type": "stream",
     "text": [
      "Epoch 0/0\n",
      "----------\n",
      "Train set | epoch:   0 |      0/ 60000 batches | Loss: 2.3152\n",
      "Train set | epoch:   0 |   6400/ 60000 batches | Loss: 2.2778\n",
      "Train set | epoch:   0 |  12800/ 60000 batches | Loss: 2.2295\n",
      "Train set | epoch:   0 |  19200/ 60000 batches | Loss: 1.2612\n",
      "Train set | epoch:   0 |  25600/ 60000 batches | Loss: 0.8846\n",
      "Train set | epoch:   0 |  32000/ 60000 batches | Loss: 0.4914\n",
      "Train set | epoch:   0 |  38400/ 60000 batches | Loss: 0.4499\n",
      "Train set | epoch:   0 |  44800/ 60000 batches | Loss: 0.4444\n",
      "Train set | epoch:   0 |  51200/ 60000 batches | Loss: 0.6363\n",
      "Train set | epoch:   0 |  57600/ 60000 batches | Loss: 0.4161\n",
      "train Loss: 1.0644 Acc: 0.6470\n",
      "Train set | epoch:   0 |      0/ 10000 batches | Loss: 0.3766\n",
      "val Loss: 0.4272 Acc: 0.8657\n",
      "\n",
      "Training complete in 0m 19s\n",
      "Best val Acc: 0.865700\n"
     ]
    }
   ],
   "source": [
    "torch.manual_seed(seed)\n",
    "model = Baseline(n_feature, output_size).to(device)\n",
    "optimizer = optim.SGD(model.parameters(),lr=0.01)\n",
    "model, loss_dict = train_model(model, optimizer)\n",
    "populate_result(optim_results, 'Baseline', loss_dict['train'], loss_dict['val'])"
   ]
  },
  {
   "cell_type": "markdown",
   "metadata": {},
   "source": [
    "## Fancier Optimization\n",
    "\n",
    "https://pytorch.org/docs/stable/optim.html"
   ]
  },
  {
   "cell_type": "markdown",
   "metadata": {},
   "source": [
    "### SGD with momentum\n",
    "1. How does SGD with momentum update its parameters?\n",
    "$$v_{t+1} = \\rho v_{t} + \\nabla J(\\theta_{t})$$\n",
    "$$\\theta_{t+1} = \\theta_{t} - \\eta v_{t+1}$$\n",
    "where $v$ and $\\rho$ denote velocity and momentum, respectively.\n",
    "2. Check out the documentation for SGD in PyTorch and complete the code below (Set momentum=0.5). "
   ]
  },
  {
   "cell_type": "code",
   "execution_count": 8,
   "metadata": {},
   "outputs": [
    {
     "name": "stdout",
     "output_type": "stream",
     "text": [
      "Epoch 0/0\n",
      "----------\n",
      "Train set | epoch:   0 |      0/ 60000 batches | Loss: 2.3152\n",
      "Train set | epoch:   0 |   6400/ 60000 batches | Loss: 2.1852\n",
      "Train set | epoch:   0 |  12800/ 60000 batches | Loss: 0.6592\n",
      "Train set | epoch:   0 |  19200/ 60000 batches | Loss: 0.4649\n",
      "Train set | epoch:   0 |  25600/ 60000 batches | Loss: 0.6572\n",
      "Train set | epoch:   0 |  32000/ 60000 batches | Loss: 0.2936\n",
      "Train set | epoch:   0 |  38400/ 60000 batches | Loss: 0.3270\n",
      "Train set | epoch:   0 |  44800/ 60000 batches | Loss: 0.3324\n",
      "Train set | epoch:   0 |  51200/ 60000 batches | Loss: 0.5616\n",
      "Train set | epoch:   0 |  57600/ 60000 batches | Loss: 0.2375\n",
      "train Loss: 0.7233 Acc: 0.7654\n",
      "Train set | epoch:   0 |      0/ 10000 batches | Loss: 0.2585\n",
      "val Loss: 0.3085 Acc: 0.9050\n",
      "\n",
      "Training complete in 0m 19s\n",
      "Best val Acc: 0.905000\n"
     ]
    }
   ],
   "source": [
    "torch.manual_seed(seed)\n",
    "model = Baseline(n_feature, output_size).to(device)\n",
    "optimizer = optim.SGD(model.parameters(),lr=0.01, momentum=0.5)\n",
    "model, loss_dict = train_model(model, optimizer)\n",
    "populate_result(optim_results, 'SGD_momentum', loss_dict['train'], loss_dict['val'])"
   ]
  },
  {
   "cell_type": "markdown",
   "metadata": {},
   "source": [
    "### Nesterov momentum\n",
    "\n",
    "Make a minor change in the above code to apply Nesterov momentum (Set momentum=0.5). "
   ]
  },
  {
   "cell_type": "code",
   "execution_count": 9,
   "metadata": {},
   "outputs": [
    {
     "name": "stdout",
     "output_type": "stream",
     "text": [
      "Epoch 0/0\n",
      "----------\n",
      "Train set | epoch:   0 |      0/ 60000 batches | Loss: 2.3152\n",
      "Train set | epoch:   0 |   6400/ 60000 batches | Loss: 2.1808\n",
      "Train set | epoch:   0 |  12800/ 60000 batches | Loss: 0.7534\n",
      "Train set | epoch:   0 |  19200/ 60000 batches | Loss: 0.4704\n",
      "Train set | epoch:   0 |  25600/ 60000 batches | Loss: 0.6746\n",
      "Train set | epoch:   0 |  32000/ 60000 batches | Loss: 0.3131\n",
      "Train set | epoch:   0 |  38400/ 60000 batches | Loss: 0.3202\n",
      "Train set | epoch:   0 |  44800/ 60000 batches | Loss: 0.3455\n",
      "Train set | epoch:   0 |  51200/ 60000 batches | Loss: 0.5697\n",
      "Train set | epoch:   0 |  57600/ 60000 batches | Loss: 0.2484\n",
      "train Loss: 0.7227 Acc: 0.7654\n",
      "Train set | epoch:   0 |      0/ 10000 batches | Loss: 0.2765\n",
      "val Loss: 0.3201 Acc: 0.9029\n",
      "\n",
      "Training complete in 0m 19s\n",
      "Best val Acc: 0.902900\n"
     ]
    }
   ],
   "source": [
    "torch.manual_seed(seed)\n",
    "model = Baseline(n_feature, output_size).to(device)\n",
    "optimizer = optim.SGD(model.parameters(),lr=0.01, momentum=0.5, nesterov=True)\n",
    "model, loss_dict = train_model(model, optimizer)\n",
    "populate_result(optim_results, 'Nesterov_momentum', loss_dict['train'], loss_dict['val'])"
   ]
  },
  {
   "cell_type": "markdown",
   "metadata": {},
   "source": [
    "### AdaGrad"
   ]
  },
  {
   "cell_type": "code",
   "execution_count": 10,
   "metadata": {},
   "outputs": [
    {
     "name": "stdout",
     "output_type": "stream",
     "text": [
      "Epoch 0/0\n",
      "----------\n",
      "Train set | epoch:   0 |      0/ 60000 batches | Loss: 2.3152\n",
      "Train set | epoch:   0 |   6400/ 60000 batches | Loss: 0.3807\n",
      "Train set | epoch:   0 |  12800/ 60000 batches | Loss: 0.3336\n",
      "Train set | epoch:   0 |  19200/ 60000 batches | Loss: 0.3232\n",
      "Train set | epoch:   0 |  25600/ 60000 batches | Loss: 0.5752\n",
      "Train set | epoch:   0 |  32000/ 60000 batches | Loss: 0.2350\n",
      "Train set | epoch:   0 |  38400/ 60000 batches | Loss: 0.2919\n",
      "Train set | epoch:   0 |  44800/ 60000 batches | Loss: 0.2990\n",
      "Train set | epoch:   0 |  51200/ 60000 batches | Loss: 0.4286\n",
      "Train set | epoch:   0 |  57600/ 60000 batches | Loss: 0.2054\n",
      "train Loss: 0.3846 Acc: 0.8823\n",
      "Train set | epoch:   0 |      0/ 10000 batches | Loss: 0.2301\n",
      "val Loss: 0.2595 Acc: 0.9242\n",
      "\n",
      "Training complete in 0m 19s\n",
      "Best val Acc: 0.924200\n"
     ]
    }
   ],
   "source": [
    "torch.manual_seed(seed)\n",
    "model = Baseline(n_feature, output_size).to(device)\n",
    "optimizer = optim.Adagrad(model.parameters(),lr=0.01)\n",
    "model, loss_dict = train_model(model, optimizer)\n",
    "populate_result(optim_results, 'Adagrad', loss_dict['train'], loss_dict['val'])"
   ]
  },
  {
   "cell_type": "markdown",
   "metadata": {},
   "source": [
    "### RMSprop"
   ]
  },
  {
   "cell_type": "code",
   "execution_count": 11,
   "metadata": {},
   "outputs": [
    {
     "name": "stdout",
     "output_type": "stream",
     "text": [
      "Epoch 0/0\n",
      "----------\n",
      "Train set | epoch:   0 |      0/ 60000 batches | Loss: 2.3152\n",
      "Train set | epoch:   0 |   6400/ 60000 batches | Loss: 0.1885\n",
      "Train set | epoch:   0 |  12800/ 60000 batches | Loss: 0.2434\n",
      "Train set | epoch:   0 |  19200/ 60000 batches | Loss: 0.1513\n",
      "Train set | epoch:   0 |  25600/ 60000 batches | Loss: 0.1916\n",
      "Train set | epoch:   0 |  32000/ 60000 batches | Loss: 0.1740\n",
      "Train set | epoch:   0 |  38400/ 60000 batches | Loss: 0.3271\n",
      "Train set | epoch:   0 |  44800/ 60000 batches | Loss: 0.1654\n",
      "Train set | epoch:   0 |  51200/ 60000 batches | Loss: 0.1158\n",
      "Train set | epoch:   0 |  57600/ 60000 batches | Loss: 0.0220\n",
      "train Loss: 0.2743 Acc: 0.9121\n",
      "Train set | epoch:   0 |      0/ 10000 batches | Loss: 0.1260\n",
      "val Loss: 0.1868 Acc: 0.9405\n",
      "\n",
      "Training complete in 0m 21s\n",
      "Best val Acc: 0.940500\n"
     ]
    }
   ],
   "source": [
    "torch.manual_seed(seed)\n",
    "model = Baseline(n_feature, output_size).to(device)\n",
    "optimizer = optim.RMSprop(model.parameters(),lr=0.01, alpha=0.9)\n",
    "model, loss_dict = train_model(model, optimizer)\n",
    "populate_result(optim_results, 'RMSprop', loss_dict['train'], loss_dict['val'])"
   ]
  },
  {
   "cell_type": "markdown",
   "metadata": {},
   "source": [
    "### Adam"
   ]
  },
  {
   "cell_type": "code",
   "execution_count": 12,
   "metadata": {},
   "outputs": [
    {
     "name": "stdout",
     "output_type": "stream",
     "text": [
      "Epoch 0/0\n",
      "----------\n",
      "Train set | epoch:   0 |      0/ 60000 batches | Loss: 2.3152\n",
      "Train set | epoch:   0 |   6400/ 60000 batches | Loss: 0.2051\n",
      "Train set | epoch:   0 |  12800/ 60000 batches | Loss: 0.1856\n",
      "Train set | epoch:   0 |  19200/ 60000 batches | Loss: 0.2332\n",
      "Train set | epoch:   0 |  25600/ 60000 batches | Loss: 0.1820\n",
      "Train set | epoch:   0 |  32000/ 60000 batches | Loss: 0.1328\n",
      "Train set | epoch:   0 |  38400/ 60000 batches | Loss: 0.1631\n",
      "Train set | epoch:   0 |  44800/ 60000 batches | Loss: 0.2054\n",
      "Train set | epoch:   0 |  51200/ 60000 batches | Loss: 0.3433\n",
      "Train set | epoch:   0 |  57600/ 60000 batches | Loss: 0.0672\n",
      "train Loss: 0.2513 Acc: 0.9209\n",
      "Train set | epoch:   0 |      0/ 10000 batches | Loss: 0.1518\n",
      "val Loss: 0.1918 Acc: 0.9423\n",
      "\n",
      "Training complete in 0m 20s\n",
      "Best val Acc: 0.942300\n"
     ]
    }
   ],
   "source": [
    "torch.manual_seed(seed)\n",
    "model = Baseline(n_feature, output_size).to(device)\n",
    "optimizer = optim.Adam(model.parameters(),lr=0.01, betas=(0.9, 0.99))\n",
    "model, loss_dict = train_model(model, optimizer)\n",
    "populate_result(optim_results, 'Adam', loss_dict['train'], loss_dict['val'])"
   ]
  },
  {
   "cell_type": "code",
   "execution_count": 13,
   "metadata": {},
   "outputs": [
    {
     "data": {
      "image/png": "[encoded data removed]",
      "text/plain": [
       "<Figure size 432x288 with 1 Axes>"
      ]
     },
     "metadata": {
      "needs_background": "light"
     },
     "output_type": "display_data"
    }
   ],
   "source": [
    "# Plot optimization methods training results\n",
    "plot_loss(optim_results)"
   ]
  },
  {
   "cell_type": "code",
   "execution_count": 14,
   "metadata": {},
   "outputs": [
    {
     "data": {
      "image/png": "[encoded data removed]",
      "text/plain": [
       "<Figure size 432x288 with 1 Axes>"
      ]
     },
     "metadata": {
      "needs_background": "light"
     },
     "output_type": "display_data"
    }
   ],
   "source": [
    "# Plot optimization methods validation results\n",
    "plot_best_loss(optim_results)"
   ]
  },
  {
   "cell_type": "markdown",
   "metadata": {},
   "source": [
    "## Regularization\n",
    "\n",
    "https://pytorch.org/docs/stable/nn.html"
   ]
  },
  {
   "cell_type": "code",
   "execution_count": 15,
   "metadata": {},
   "outputs": [],
   "source": [
    "# In order to see effects of regularization on validation set, we need to make some slight modification\n",
    "\n",
    "## Smaller training set\n",
    "mnist_datasets['train'].data = mnist_datasets['train'].data[:600]\n",
    "dataset_sizes = {x: len(mnist_datasets[x]) for x in ['train', 'val']}\n",
    "dataloaders['train'] = torch.utils.data.DataLoader(mnist_datasets['train'], \n",
    "                                                   batch_size=batch_size['train'], shuffle=True)\n",
    "\n",
    "## Longer training epochs\n",
    "train_epochs = 25\n",
    "verbose = False\n",
    "reg_results = {}"
   ]
  },
  {
   "cell_type": "markdown",
   "metadata": {},
   "source": [
    "### Baseline model"
   ]
  },
  {
   "cell_type": "code",
   "execution_count": 16,
   "metadata": {},
   "outputs": [
    {
     "name": "stdout",
     "output_type": "stream",
     "text": [
      "Epoch 0/24\n",
      "----------\n",
      "train Loss: 2.0973 Acc: 0.2650\n",
      "val Loss: 1.4374 Acc: 0.5660\n",
      "\n",
      "Epoch 1/24\n",
      "----------\n",
      "train Loss: 0.9714 Acc: 0.7200\n",
      "val Loss: 0.9179 Acc: 0.7055\n",
      "\n",
      "Epoch 2/24\n",
      "----------\n",
      "train Loss: 0.6271 Acc: 0.8100\n",
      "val Loss: 0.7293 Acc: 0.7433\n",
      "\n",
      "Epoch 3/24\n",
      "----------\n",
      "train Loss: 0.4617 Acc: 0.8683\n",
      "val Loss: 0.5667 Acc: 0.8168\n",
      "\n",
      "Epoch 4/24\n",
      "----------\n",
      "train Loss: 0.3390 Acc: 0.8967\n",
      "val Loss: 0.4734 Acc: 0.8514\n",
      "\n",
      "Epoch 5/24\n",
      "----------\n",
      "train Loss: 0.2503 Acc: 0.9167\n",
      "val Loss: 0.4775 Acc: 0.8522\n",
      "\n",
      "Epoch 6/24\n",
      "----------\n",
      "train Loss: 0.1736 Acc: 0.9483\n",
      "val Loss: 0.4296 Acc: 0.8776\n",
      "\n",
      "Epoch 7/24\n",
      "----------\n",
      "train Loss: 0.1527 Acc: 0.9483\n",
      "val Loss: 0.6078 Acc: 0.8320\n",
      "\n",
      "Epoch 8/24\n",
      "----------\n",
      "train Loss: 0.1451 Acc: 0.9500\n",
      "val Loss: 0.5243 Acc: 0.8608\n",
      "\n",
      "Epoch 9/24\n",
      "----------\n",
      "train Loss: 0.1138 Acc: 0.9533\n",
      "val Loss: 0.5751 Acc: 0.8527\n",
      "\n",
      "Epoch 10/24\n",
      "----------\n",
      "train Loss: 0.1607 Acc: 0.9450\n",
      "val Loss: 0.4994 Acc: 0.8657\n",
      "\n",
      "Epoch 11/24\n",
      "----------\n",
      "train Loss: 0.0926 Acc: 0.9650\n",
      "val Loss: 0.5283 Acc: 0.8647\n",
      "\n",
      "Epoch 12/24\n",
      "----------\n",
      "train Loss: 0.0640 Acc: 0.9783\n",
      "val Loss: 0.5099 Acc: 0.8770\n",
      "\n",
      "Epoch 13/24\n",
      "----------\n",
      "train Loss: 0.0380 Acc: 0.9917\n",
      "val Loss: 0.5410 Acc: 0.8836\n",
      "\n",
      "Epoch 14/24\n",
      "----------\n",
      "train Loss: 0.0266 Acc: 0.9933\n",
      "val Loss: 0.6086 Acc: 0.8720\n",
      "\n",
      "Epoch 15/24\n",
      "----------\n",
      "train Loss: 0.0340 Acc: 0.9933\n",
      "val Loss: 0.6737 Acc: 0.8683\n",
      "\n",
      "Epoch 16/24\n",
      "----------\n",
      "train Loss: 0.0358 Acc: 0.9867\n",
      "val Loss: 0.5828 Acc: 0.8798\n",
      "\n",
      "Epoch 17/24\n",
      "----------\n",
      "train Loss: 0.0250 Acc: 0.9950\n",
      "val Loss: 0.6394 Acc: 0.8792\n",
      "\n",
      "Epoch 18/24\n",
      "----------\n",
      "train Loss: 0.0283 Acc: 0.9867\n",
      "val Loss: 0.7300 Acc: 0.8599\n",
      "\n",
      "Epoch 19/24\n",
      "----------\n",
      "train Loss: 0.0257 Acc: 0.9933\n",
      "val Loss: 0.6780 Acc: 0.8727\n",
      "\n",
      "Epoch 20/24\n",
      "----------\n",
      "train Loss: 0.0303 Acc: 0.9900\n",
      "val Loss: 0.6758 Acc: 0.8709\n",
      "\n",
      "Epoch 21/24\n",
      "----------\n",
      "train Loss: 0.0494 Acc: 0.9867\n",
      "val Loss: 0.7575 Acc: 0.8545\n",
      "\n",
      "Epoch 22/24\n",
      "----------\n",
      "train Loss: 0.0467 Acc: 0.9833\n",
      "val Loss: 0.6724 Acc: 0.8707\n",
      "\n",
      "Epoch 23/24\n",
      "----------\n",
      "train Loss: 0.0237 Acc: 0.9933\n",
      "val Loss: 0.6484 Acc: 0.8752\n",
      "\n",
      "Epoch 24/24\n",
      "----------\n",
      "train Loss: 0.0129 Acc: 0.9983\n",
      "val Loss: 0.6421 Acc: 0.8938\n",
      "\n",
      "Training complete in 0m 54s\n",
      "Best val Acc: 0.893800\n"
     ]
    }
   ],
   "source": [
    "torch.manual_seed(seed)\n",
    "model = Baseline(n_feature, output_size).to(device)\n",
    "optimizer = optim.Adam(model.parameters(),lr=0.01)\n",
    "model, loss_dict = train_model(model, optimizer, num_epochs=train_epochs, verbose=verbose)\n",
    "populate_result(reg_results, 'Baseline', loss_dict['train'], loss_dict['val'])"
   ]
  },
  {
   "cell_type": "markdown",
   "metadata": {},
   "source": [
    "### L1/L2 regularization\n",
    "\n",
    "L2 regularization is included in most optimizers in PyTorch and can be controlled with the __weight_decay__ parameter.\n",
    "For L1 regularization, check out this post: https://discuss.pytorch.org/t/simple-l2-regularization/139"
   ]
  },
  {
   "cell_type": "markdown",
   "metadata": {},
   "source": [
    "### Adding Dropout Layer\n",
    "\n",
    "1. Check out documentations for __nn.Dropout()__. Modify the Baseline model and add dropout layer to the fully connected layers.\n",
    "2. Optionally, you may also check out documentations for __nn.Dropout2d()__ to learn how to add Dropout layer to convolution layers."
   ]
  },
  {
   "cell_type": "code",
   "execution_count": 17,
   "metadata": {},
   "outputs": [],
   "source": [
    "class DropoutNet(nn.Module):\n",
    "    def __init__(self, input_size, n_feature, output_size, dropout_rate=0.5):\n",
    "        super(DropoutNet, self).__init__()\n",
    "        self.n_feature = n_feature\n",
    "        self.conv1 = nn.Sequential(nn.Conv2d(1, n_feature, kernel_size=5),\n",
    "                                   nn.ReLU(),\n",
    "                                   nn.MaxPool2d(2))\n",
    "        \n",
    "        self.conv2 = nn.Sequential(nn.Conv2d(n_feature, n_feature, kernel_size=5),\n",
    "                                   nn.ReLU(),\n",
    "                                   nn.MaxPool2d(2))\n",
    "        self.fc = nn.Sequential(nn.Linear(n_feature*4*4, 50),\n",
    "                                nn.ReLU(),\n",
    "                                nn.Dropout(dropout_rate),\n",
    "                                nn.Linear(50, 10))\n",
    "\n",
    "\n",
    "    def forward(self, x, verbose=False):\n",
    "        x = self.conv1(x)\n",
    "        x = self.conv2(x)\n",
    "        x = x.view(-1, self.n_feature*4*4)\n",
    "        x = self.fc(x)\n",
    "        return x"
   ]
  },
  {
   "cell_type": "code",
   "execution_count": 18,
   "metadata": {},
   "outputs": [
    {
     "name": "stdout",
     "output_type": "stream",
     "text": [
      "Epoch 0/24\n",
      "----------\n",
      "train Loss: 2.1650 Acc: 0.2350\n",
      "val Loss: 1.6361 Acc: 0.5079\n",
      "\n",
      "Epoch 1/24\n",
      "----------\n",
      "train Loss: 1.2514 Acc: 0.5617\n",
      "val Loss: 0.9138 Acc: 0.6785\n",
      "\n",
      "Epoch 2/24\n",
      "----------\n",
      "train Loss: 0.8508 Acc: 0.7283\n",
      "val Loss: 0.7697 Acc: 0.7395\n",
      "\n",
      "Epoch 3/24\n",
      "----------\n",
      "train Loss: 0.6833 Acc: 0.7783\n",
      "val Loss: 0.6424 Acc: 0.7861\n",
      "\n",
      "Epoch 4/24\n",
      "----------\n",
      "train Loss: 0.5876 Acc: 0.8033\n",
      "val Loss: 0.5845 Acc: 0.8011\n",
      "\n",
      "Epoch 5/24\n",
      "----------\n",
      "train Loss: 0.4666 Acc: 0.8383\n",
      "val Loss: 0.5325 Acc: 0.8251\n",
      "\n",
      "Epoch 6/24\n",
      "----------\n",
      "train Loss: 0.3696 Acc: 0.8750\n",
      "val Loss: 0.5006 Acc: 0.8407\n",
      "\n",
      "Epoch 7/24\n",
      "----------\n",
      "train Loss: 0.3442 Acc: 0.8933\n",
      "val Loss: 0.4694 Acc: 0.8536\n",
      "\n",
      "Epoch 8/24\n",
      "----------\n",
      "train Loss: 0.3223 Acc: 0.8917\n",
      "val Loss: 0.5297 Acc: 0.8303\n",
      "\n",
      "Epoch 9/24\n",
      "----------\n",
      "train Loss: 0.2590 Acc: 0.9017\n",
      "val Loss: 0.4586 Acc: 0.8572\n",
      "\n",
      "Epoch 10/24\n",
      "----------\n",
      "train Loss: 0.2634 Acc: 0.9000\n",
      "val Loss: 0.4618 Acc: 0.8596\n",
      "\n",
      "Epoch 11/24\n",
      "----------\n",
      "train Loss: 0.1714 Acc: 0.9383\n",
      "val Loss: 0.4644 Acc: 0.8710\n",
      "\n",
      "Epoch 12/24\n",
      "----------\n",
      "train Loss: 0.1818 Acc: 0.9400\n",
      "val Loss: 0.4828 Acc: 0.8728\n",
      "\n",
      "Epoch 13/24\n",
      "----------\n",
      "train Loss: 0.1384 Acc: 0.9600\n",
      "val Loss: 0.4440 Acc: 0.8819\n",
      "\n",
      "Epoch 14/24\n",
      "----------\n",
      "train Loss: 0.1591 Acc: 0.9467\n",
      "val Loss: 0.5201 Acc: 0.8688\n",
      "\n",
      "Epoch 15/24\n",
      "----------\n",
      "train Loss: 0.1382 Acc: 0.9433\n",
      "val Loss: 0.4424 Acc: 0.8814\n",
      "\n",
      "Epoch 16/24\n",
      "----------\n",
      "train Loss: 0.1843 Acc: 0.9350\n",
      "val Loss: 0.4716 Acc: 0.8738\n",
      "\n",
      "Epoch 17/24\n",
      "----------\n",
      "train Loss: 0.1901 Acc: 0.9317\n",
      "val Loss: 0.6382 Acc: 0.8448\n",
      "\n",
      "Epoch 18/24\n",
      "----------\n",
      "train Loss: 0.2492 Acc: 0.9083\n",
      "val Loss: 0.5802 Acc: 0.8512\n",
      "\n",
      "Epoch 19/24\n",
      "----------\n",
      "train Loss: 0.1690 Acc: 0.9433\n",
      "val Loss: 0.4259 Acc: 0.8897\n",
      "\n",
      "Epoch 20/24\n",
      "----------\n",
      "train Loss: 0.1453 Acc: 0.9417\n",
      "val Loss: 0.4561 Acc: 0.8849\n",
      "\n",
      "Epoch 21/24\n",
      "----------\n",
      "train Loss: 0.0980 Acc: 0.9683\n",
      "val Loss: 0.5049 Acc: 0.8874\n",
      "\n",
      "Epoch 22/24\n",
      "----------\n",
      "train Loss: 0.0945 Acc: 0.9667\n",
      "val Loss: 0.5282 Acc: 0.8864\n",
      "\n",
      "Epoch 23/24\n",
      "----------\n",
      "train Loss: 0.0912 Acc: 0.9683\n",
      "val Loss: 0.5292 Acc: 0.8911\n",
      "\n",
      "Epoch 24/24\n",
      "----------\n",
      "train Loss: 0.1252 Acc: 0.9583\n",
      "val Loss: 0.5501 Acc: 0.8808\n",
      "\n",
      "Training complete in 0m 53s\n",
      "Best val Acc: 0.891100\n"
     ]
    }
   ],
   "source": [
    "torch.manual_seed(seed)\n",
    "model = DropoutNet(input_size, n_feature, output_size, dropout_rate=0.3).to(device)\n",
    "optimizer = optim.Adam(model.parameters(),lr=0.01)\n",
    "model, loss_dict = train_model(model, optimizer, num_epochs=train_epochs, verbose=verbose)\n",
    "populate_result(reg_results, 'Dropout', loss_dict['train'], loss_dict['val'])"
   ]
  },
  {
   "cell_type": "markdown",
   "metadata": {},
   "source": [
    "### Adding Batch Normalization\n",
    "1. What's the advantage of using batch normalization?\n",
    "    1. Allow each layer to train relatively more independently\n",
    "    2. Improve gradient flow through the network\n",
    "    3. Allows higher learning rate\n",
    "    4. Reduces strong dependence on initialization\n",
    "2. Implement batch normalization in __BatchnormNet__. Think about where you may want to insert the batch normalization layer."
   ]
  },
  {
   "cell_type": "code",
   "execution_count": 19,
   "metadata": {},
   "outputs": [],
   "source": [
    "class BatchnormNet(nn.Module):\n",
    "    def __init__(self, n_feature, output_size):\n",
    "        super(BatchnormNet, self).__init__()\n",
    "        self.n_feature = n_feature\n",
    "        self.conv1 = nn.Sequential(nn.Conv2d(1, n_feature, kernel_size=5),\n",
    "                                   nn.BatchNorm2d(n_feature),\n",
    "                                   nn.MaxPool2d(2),\n",
    "                                   nn.ReLU())\n",
    "        \n",
    "        self.conv2 = nn.Sequential(nn.Conv2d(n_feature, n_feature, kernel_size=5),\n",
    "                                   nn.BatchNorm2d(n_feature),\n",
    "                                   nn.MaxPool2d(2),\n",
    "                                   nn.ReLU())\n",
    "        self.fc = nn.Sequential(nn.Linear(n_feature*4*4, 50),\n",
    "                                nn.BatchNorm1d(50),\n",
    "                                nn.ReLU(),\n",
    "                                nn.Linear(50, 10))\n",
    "\n",
    "\n",
    "    def forward(self, x, verbose=False):\n",
    "        x = self.conv1(x)\n",
    "        x = self.conv2(x)\n",
    "        x = x.view(-1, self.n_feature*4*4)\n",
    "        x = self.fc(x)\n",
    "        return x"
   ]
  },
  {
   "cell_type": "code",
   "execution_count": 20,
   "metadata": {},
   "outputs": [
    {
     "name": "stdout",
     "output_type": "stream",
     "text": [
      "Epoch 0/24\n",
      "----------\n",
      "train Loss: 1.6971 Acc: 0.5100\n",
      "val Loss: 1.4720 Acc: 0.5368\n",
      "\n",
      "Epoch 1/24\n",
      "----------\n",
      "train Loss: 0.8019 Acc: 0.8267\n",
      "val Loss: 0.8003 Acc: 0.7447\n",
      "\n",
      "Epoch 2/24\n",
      "----------\n",
      "train Loss: 0.4420 Acc: 0.8733\n",
      "val Loss: 0.5799 Acc: 0.8084\n",
      "\n",
      "Epoch 3/24\n",
      "----------\n",
      "train Loss: 0.2850 Acc: 0.9217\n",
      "val Loss: 0.4652 Acc: 0.8451\n",
      "\n",
      "Epoch 4/24\n",
      "----------\n",
      "train Loss: 0.1766 Acc: 0.9550\n",
      "val Loss: 0.5399 Acc: 0.8196\n",
      "\n",
      "Epoch 5/24\n",
      "----------\n",
      "train Loss: 0.1297 Acc: 0.9767\n",
      "val Loss: 0.4196 Acc: 0.8613\n",
      "\n",
      "Epoch 6/24\n",
      "----------\n",
      "train Loss: 0.1023 Acc: 0.9750\n",
      "val Loss: 0.3952 Acc: 0.8720\n",
      "\n",
      "Epoch 7/24\n",
      "----------\n",
      "train Loss: 0.0797 Acc: 0.9833\n",
      "val Loss: 0.3759 Acc: 0.8773\n",
      "\n",
      "Epoch 8/24\n",
      "----------\n",
      "train Loss: 0.0629 Acc: 0.9933\n",
      "val Loss: 0.4404 Acc: 0.8594\n",
      "\n",
      "Epoch 9/24\n",
      "----------\n",
      "train Loss: 0.0492 Acc: 0.9883\n",
      "val Loss: 0.3600 Acc: 0.8829\n",
      "\n",
      "Epoch 10/24\n",
      "----------\n",
      "train Loss: 0.0403 Acc: 0.9950\n",
      "val Loss: 0.3787 Acc: 0.8820\n",
      "\n",
      "Epoch 11/24\n",
      "----------\n",
      "train Loss: 0.0384 Acc: 0.9933\n",
      "val Loss: 0.4003 Acc: 0.8777\n",
      "\n",
      "Epoch 12/24\n",
      "----------\n",
      "train Loss: 0.0373 Acc: 0.9917\n",
      "val Loss: 0.4718 Acc: 0.8586\n",
      "\n",
      "Epoch 13/24\n",
      "----------\n",
      "train Loss: 0.0503 Acc: 0.9917\n",
      "val Loss: 0.5351 Acc: 0.8486\n",
      "\n",
      "Epoch 14/24\n",
      "----------\n",
      "train Loss: 0.0394 Acc: 0.9917\n",
      "val Loss: 0.4267 Acc: 0.8718\n",
      "\n",
      "Epoch 15/24\n",
      "----------\n",
      "train Loss: 0.0351 Acc: 0.9900\n",
      "val Loss: 0.4458 Acc: 0.8670\n",
      "\n",
      "Epoch 16/24\n",
      "----------\n",
      "train Loss: 0.0560 Acc: 0.9850\n",
      "val Loss: 0.4313 Acc: 0.8741\n",
      "\n",
      "Epoch 17/24\n",
      "----------\n",
      "train Loss: 0.0353 Acc: 0.9917\n",
      "val Loss: 0.4035 Acc: 0.8823\n",
      "\n",
      "Epoch 18/24\n",
      "----------\n",
      "train Loss: 0.0165 Acc: 1.0000\n",
      "val Loss: 0.4420 Acc: 0.8756\n",
      "\n",
      "Epoch 19/24\n",
      "----------\n",
      "train Loss: 0.0117 Acc: 1.0000\n",
      "val Loss: 0.3747 Acc: 0.8928\n",
      "\n",
      "Epoch 20/24\n",
      "----------\n",
      "train Loss: 0.0072 Acc: 1.0000\n",
      "val Loss: 0.3580 Acc: 0.8980\n",
      "\n",
      "Epoch 21/24\n",
      "----------\n",
      "train Loss: 0.0065 Acc: 1.0000\n",
      "val Loss: 0.3632 Acc: 0.8960\n",
      "\n",
      "Epoch 22/24\n",
      "----------\n",
      "train Loss: 0.0049 Acc: 1.0000\n",
      "val Loss: 0.3741 Acc: 0.8956\n",
      "\n",
      "Epoch 23/24\n",
      "----------\n",
      "train Loss: 0.0050 Acc: 1.0000\n",
      "val Loss: 0.3837 Acc: 0.8913\n",
      "\n",
      "Epoch 24/24\n",
      "----------\n",
      "train Loss: 0.0039 Acc: 1.0000\n",
      "val Loss: 0.3907 Acc: 0.8941\n",
      "\n",
      "Training complete in 0m 52s\n",
      "Best val Acc: 0.898000\n"
     ]
    }
   ],
   "source": [
    "torch.manual_seed(seed)\n",
    "model = BatchnormNet(n_feature, output_size).to(device)\n",
    "optimizer = optim.Adam(model.parameters(),lr=0.01)\n",
    "model, loss_dict = train_model(model, optimizer, num_epochs=train_epochs, verbose=verbose)\n",
    "populate_result(reg_results, 'Batchnorm', loss_dict['train'], loss_dict['val'])"
   ]
  },
  {
   "cell_type": "code",
   "execution_count": 21,
   "metadata": {},
   "outputs": [
    {
     "data": {
      "image/png": "[encoded data removed]",
      "text/plain": [
       "<Figure size 432x288 with 1 Axes>"
      ]
     },
     "metadata": {
      "needs_background": "light"
     },
     "output_type": "display_data"
    }
   ],
   "source": [
    "plot_loss(reg_results)"
   ]
  },
  {
   "cell_type": "markdown",
   "metadata": {},
   "source": [
    "Validation loss using Dropout and Batchnorm start to catch up with the loss of baseline model after baseline model overfits training data."
   ]
  },
  {
   "cell_type": "code",
   "execution_count": 22,
   "metadata": {},
   "outputs": [
    {
     "data": {
      "image/png": "[encoded data removed]",
      "text/plain": [
       "<Figure size 432x288 with 1 Axes>"
      ]
     },
     "metadata": {
      "needs_background": "light"
     },
     "output_type": "display_data"
    }
   ],
   "source": [
    "plot_loss(reg_results, loss = 'val_loss', ylim=(0.1, 1))"
   ]
  },
  {
   "cell_type": "markdown",
   "metadata": {},
   "source": [
    "## Exercise: parameter tunning\n",
    "\n",
    "We've introduced multiple regularization and optimization techniques to improve your model. How can you combine these techniques and perform grid search to find out a set of parameters that maximize your model performance on validation set? Are there other model architectures you'd like to try?"
   ]
  },
  {
   "cell_type": "code",
   "execution_count": null,
   "metadata": {},
   "outputs": [],
   "source": []
  }
 ],
 "metadata": {
  "kernelspec": {
   "display_name": "Python 3",
   "language": "python",
   "name": "python3"
  },
  "language_info": {
   "codemirror_mode": {
    "name": "ipython",
    "version": 3
   },
   "file_extension": ".py",
   "mimetype": "text/x-python",
   "name": "python",
   "nbconvert_exporter": "python",
   "pygments_lexer": "ipython3",
   "version": "3.6.7"
  }
 },
 "nbformat": 4,
 "nbformat_minor": 4
}
