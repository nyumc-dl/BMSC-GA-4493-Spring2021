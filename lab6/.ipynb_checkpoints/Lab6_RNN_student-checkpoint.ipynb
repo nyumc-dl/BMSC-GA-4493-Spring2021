{
 "cells": [
  {
   "cell_type": "markdown",
   "metadata": {
    "colab_type": "text",
    "id": "Dqb6_SeUfkG7"
   },
   "source": [
    "# Lab 5: RNNs & Word Embeddings"
   ]
  },
  {
   "cell_type": "markdown",
   "metadata": {
    "colab_type": "text",
    "id": "xjF-YUyqACXt"
   },
   "source": [
    "Author: Ravi C, Ren Yi"
   ]
  },
  {
   "cell_type": "code",
   "execution_count": 2,
   "metadata": {
    "colab": {
     "base_uri": "https://localhost:8080/",
     "height": 50
    },
    "colab_type": "code",
    "id": "kOjobxhbfkHA",
    "outputId": "70660689-231b-443a-b8d1-cfd61c1c49c4"
   },
   "outputs": [
    {
     "name": "stdout",
     "output_type": "stream",
     "text": [
      "[nltk_data] Downloading package punkt to /root/nltk_data...\n",
      "[nltk_data]   Package punkt is already up-to-date!\n"
     ]
    }
   ],
   "source": [
    "import re\n",
    "import os\n",
    "import time\n",
    "import pandas as pd\n",
    "import numpy as np\n",
    "from collections import Counter\n",
    "from sklearn.model_selection import train_test_split\n",
    "from sklearn.metrics.pairwise import cosine_similarity\n",
    "from gensim.models import KeyedVectors\n",
    "import nltk\n",
    "nltk.download('punkt')\n",
    "from nltk.tokenize import word_tokenize\n",
    "from torch.nn.utils.rnn import pad_sequence\n",
    "from torch.nn.utils.rnn import pack_padded_sequence\n",
    "import torch\n",
    "import torch.nn as nn\n",
    "import torch.nn.functional as F\n",
    "from sklearn.metrics import roc_auc_score\n",
    "from torch.utils.data import DataLoader, Dataset\n",
    "\n",
    "# # If there's a GPU available...\n",
    "# if torch.cuda.is_available():    \n",
    "\n",
    "#     # Tell PyTorch to use the GPU.    \n",
    "#     device = torch.device(\"cuda\")\n",
    "\n",
    "#     print('There are %d GPU(s) available.' % torch.cuda.device_count())\n",
    "\n",
    "#     print('We will use the GPU:', torch.cuda.get_device_name(0))\n",
    "\n",
    "# # If not...\n",
    "# else:\n",
    "#     print('No GPU available, using the CPU instead.')\n",
    "#     device = torch.device(\"cpu\")\n",
    "device = torch.device(\"cpu\")"
   ]
  },
  {
   "cell_type": "markdown",
   "metadata": {
    "colab_type": "text",
    "id": "8YrCdiD7fkHD"
   },
   "source": [
    "## Goal:\n",
    "- Understand the mechanics of RNNs in Pytorch\n",
    "- Train RNN based neural networks on text data\n",
    "- Basics of word embedding and how to use them"
   ]
  },
  {
   "cell_type": "markdown",
   "metadata": {
    "colab_type": "text",
    "id": "97W7LJNtfkHE"
   },
   "source": [
    "## Problem Setup"
   ]
  },
  {
   "cell_type": "markdown",
   "metadata": {
    "colab_type": "text",
    "id": "ClzLmAhAfkHE"
   },
   "source": [
    "### Dataset\n",
    "Download the two files in the data folder [here](https://drive.google.com/drive/folders/1KBUyfU87zz8eOZwr2ifDi2Z4LBHlSZ28?usp=sharing). Save the folder in the same directory as this notebook."
   ]
  },
  {
   "cell_type": "markdown",
   "metadata": {
    "colab_type": "text",
    "id": "fludClYgfkHF"
   },
   "source": [
    "For the first part, we will be using the [First GOP Debate Twitter Sentiment dataset](https://www.kaggle.com/ngyptr/lstm-sentiment-analysis-keras/data), which contains Tweets after the first GOP debate and their sentiments (among other stuff)."
   ]
  },
  {
   "cell_type": "code",
   "execution_count": 3,
   "metadata": {
    "colab": {
     "base_uri": "https://localhost:8080/",
     "height": 400
    },
    "colab_type": "code",
    "id": "KqNi_76ofkHG",
    "outputId": "d6d50053-05c1-458e-e20d-25467b854450"
   },
   "outputs": [
    {
     "data": {
      "text/html": [
       "<div>\n",
       "<style scoped>\n",
       "    .dataframe tbody tr th:only-of-type {\n",
       "        vertical-align: middle;\n",
       "    }\n",
       "\n",
       "    .dataframe tbody tr th {\n",
       "        vertical-align: top;\n",
       "    }\n",
       "\n",
       "    .dataframe thead th {\n",
       "        text-align: right;\n",
       "    }\n",
       "</style>\n",
       "<table border=\"1\" class=\"dataframe\">\n",
       "  <thead>\n",
       "    <tr style=\"text-align: right;\">\n",
       "      <th></th>\n",
       "      <th>id</th>\n",
       "      <th>candidate</th>\n",
       "      <th>candidate_confidence</th>\n",
       "      <th>relevant_yn</th>\n",
       "      <th>relevant_yn_confidence</th>\n",
       "      <th>sentiment</th>\n",
       "      <th>sentiment_confidence</th>\n",
       "      <th>subject_matter</th>\n",
       "      <th>subject_matter_confidence</th>\n",
       "      <th>candidate_gold</th>\n",
       "      <th>name</th>\n",
       "      <th>relevant_yn_gold</th>\n",
       "      <th>retweet_count</th>\n",
       "      <th>sentiment_gold</th>\n",
       "      <th>subject_matter_gold</th>\n",
       "      <th>text</th>\n",
       "      <th>tweet_coord</th>\n",
       "      <th>tweet_created</th>\n",
       "      <th>tweet_id</th>\n",
       "      <th>tweet_location</th>\n",
       "      <th>user_timezone</th>\n",
       "    </tr>\n",
       "  </thead>\n",
       "  <tbody>\n",
       "    <tr>\n",
       "      <th>0</th>\n",
       "      <td>1</td>\n",
       "      <td>No candidate mentioned</td>\n",
       "      <td>1.0</td>\n",
       "      <td>yes</td>\n",
       "      <td>1.0</td>\n",
       "      <td>Neutral</td>\n",
       "      <td>0.6578</td>\n",
       "      <td>None of the above</td>\n",
       "      <td>1.0000</td>\n",
       "      <td>NaN</td>\n",
       "      <td>I_Am_Kenzi</td>\n",
       "      <td>NaN</td>\n",
       "      <td>5</td>\n",
       "      <td>NaN</td>\n",
       "      <td>NaN</td>\n",
       "      <td>RT @NancyLeeGrahn: How did everyone feel about...</td>\n",
       "      <td>NaN</td>\n",
       "      <td>2015-08-07 09:54:46 -0700</td>\n",
       "      <td>629697200650592256</td>\n",
       "      <td>NaN</td>\n",
       "      <td>Quito</td>\n",
       "    </tr>\n",
       "    <tr>\n",
       "      <th>1</th>\n",
       "      <td>2</td>\n",
       "      <td>Scott Walker</td>\n",
       "      <td>1.0</td>\n",
       "      <td>yes</td>\n",
       "      <td>1.0</td>\n",
       "      <td>Positive</td>\n",
       "      <td>0.6333</td>\n",
       "      <td>None of the above</td>\n",
       "      <td>1.0000</td>\n",
       "      <td>NaN</td>\n",
       "      <td>PeacefulQuest</td>\n",
       "      <td>NaN</td>\n",
       "      <td>26</td>\n",
       "      <td>NaN</td>\n",
       "      <td>NaN</td>\n",
       "      <td>RT @ScottWalker: Didn't catch the full #GOPdeb...</td>\n",
       "      <td>NaN</td>\n",
       "      <td>2015-08-07 09:54:46 -0700</td>\n",
       "      <td>629697199560069120</td>\n",
       "      <td>NaN</td>\n",
       "      <td>NaN</td>\n",
       "    </tr>\n",
       "    <tr>\n",
       "      <th>2</th>\n",
       "      <td>3</td>\n",
       "      <td>No candidate mentioned</td>\n",
       "      <td>1.0</td>\n",
       "      <td>yes</td>\n",
       "      <td>1.0</td>\n",
       "      <td>Neutral</td>\n",
       "      <td>0.6629</td>\n",
       "      <td>None of the above</td>\n",
       "      <td>0.6629</td>\n",
       "      <td>NaN</td>\n",
       "      <td>PussssyCroook</td>\n",
       "      <td>NaN</td>\n",
       "      <td>27</td>\n",
       "      <td>NaN</td>\n",
       "      <td>NaN</td>\n",
       "      <td>RT @TJMShow: No mention of Tamir Rice and the ...</td>\n",
       "      <td>NaN</td>\n",
       "      <td>2015-08-07 09:54:46 -0700</td>\n",
       "      <td>629697199312482304</td>\n",
       "      <td>NaN</td>\n",
       "      <td>NaN</td>\n",
       "    </tr>\n",
       "    <tr>\n",
       "      <th>3</th>\n",
       "      <td>4</td>\n",
       "      <td>No candidate mentioned</td>\n",
       "      <td>1.0</td>\n",
       "      <td>yes</td>\n",
       "      <td>1.0</td>\n",
       "      <td>Positive</td>\n",
       "      <td>1.0000</td>\n",
       "      <td>None of the above</td>\n",
       "      <td>0.7039</td>\n",
       "      <td>NaN</td>\n",
       "      <td>MattFromTexas31</td>\n",
       "      <td>NaN</td>\n",
       "      <td>138</td>\n",
       "      <td>NaN</td>\n",
       "      <td>NaN</td>\n",
       "      <td>RT @RobGeorge: That Carly Fiorina is trending ...</td>\n",
       "      <td>NaN</td>\n",
       "      <td>2015-08-07 09:54:45 -0700</td>\n",
       "      <td>629697197118861312</td>\n",
       "      <td>Texas</td>\n",
       "      <td>Central Time (US &amp; Canada)</td>\n",
       "    </tr>\n",
       "    <tr>\n",
       "      <th>4</th>\n",
       "      <td>5</td>\n",
       "      <td>Donald Trump</td>\n",
       "      <td>1.0</td>\n",
       "      <td>yes</td>\n",
       "      <td>1.0</td>\n",
       "      <td>Positive</td>\n",
       "      <td>0.7045</td>\n",
       "      <td>None of the above</td>\n",
       "      <td>1.0000</td>\n",
       "      <td>NaN</td>\n",
       "      <td>sharonDay5</td>\n",
       "      <td>NaN</td>\n",
       "      <td>156</td>\n",
       "      <td>NaN</td>\n",
       "      <td>NaN</td>\n",
       "      <td>RT @DanScavino: #GOPDebate w/ @realDonaldTrump...</td>\n",
       "      <td>NaN</td>\n",
       "      <td>2015-08-07 09:54:45 -0700</td>\n",
       "      <td>629697196967903232</td>\n",
       "      <td>NaN</td>\n",
       "      <td>Arizona</td>\n",
       "    </tr>\n",
       "  </tbody>\n",
       "</table>\n",
       "</div>"
      ],
      "text/plain": [
       "   id               candidate  ...  tweet_location               user_timezone\n",
       "0   1  No candidate mentioned  ...             NaN                       Quito\n",
       "1   2            Scott Walker  ...             NaN                         NaN\n",
       "2   3  No candidate mentioned  ...             NaN                         NaN\n",
       "3   4  No candidate mentioned  ...           Texas  Central Time (US & Canada)\n",
       "4   5            Donald Trump  ...             NaN                     Arizona\n",
       "\n",
       "[5 rows x 21 columns]"
      ]
     },
     "execution_count": 3,
     "metadata": {
      "tags": []
     },
     "output_type": "execute_result"
    }
   ],
   "source": [
    "np.random.seed(1111)\n",
    "\n",
    "df = pd.read_csv('/content/drive/My Drive/data/Sentiment.csv')\n",
    "df.head()"
   ]
  },
  {
   "cell_type": "markdown",
   "metadata": {
    "colab_type": "text",
    "id": "JD_GW-x3fkHK"
   },
   "source": [
    "Let's first look at some basic stats of the data"
   ]
  },
  {
   "cell_type": "code",
   "execution_count": 4,
   "metadata": {
    "colab": {
     "base_uri": "https://localhost:8080/",
     "height": 34
    },
    "colab_type": "code",
    "id": "-saQCovdfkHL",
    "outputId": "0beab833-3243-440d-f22a-48eebded99d8"
   },
   "outputs": [
    {
     "data": {
      "text/plain": [
       "'RT @NancyLeeGrahn: How did everyone feel about the Climate Change question last night? Exactly. #GOPDebate'"
      ]
     },
     "execution_count": 4,
     "metadata": {
      "tags": []
     },
     "output_type": "execute_result"
    }
   ],
   "source": [
    "# Training data is a string of words\n",
    "df.loc[0, 'text']"
   ]
  },
  {
   "cell_type": "code",
   "execution_count": 5,
   "metadata": {
    "colab": {
     "base_uri": "https://localhost:8080/",
     "height": 166
    },
    "colab_type": "code",
    "id": "GhFdZwoSfkHO",
    "outputId": "c1266849-dcb5-4a1f-f722-9192f3e31e71"
   },
   "outputs": [
    {
     "data": {
      "text/html": [
       "<div>\n",
       "<style scoped>\n",
       "    .dataframe tbody tr th:only-of-type {\n",
       "        vertical-align: middle;\n",
       "    }\n",
       "\n",
       "    .dataframe tbody tr th {\n",
       "        vertical-align: top;\n",
       "    }\n",
       "\n",
       "    .dataframe thead th {\n",
       "        text-align: right;\n",
       "    }\n",
       "</style>\n",
       "<table border=\"1\" class=\"dataframe\">\n",
       "  <thead>\n",
       "    <tr style=\"text-align: right;\">\n",
       "      <th></th>\n",
       "      <th>text</th>\n",
       "    </tr>\n",
       "    <tr>\n",
       "      <th>sentiment</th>\n",
       "      <th></th>\n",
       "    </tr>\n",
       "  </thead>\n",
       "  <tbody>\n",
       "    <tr>\n",
       "      <th>Negative</th>\n",
       "      <td>8493</td>\n",
       "    </tr>\n",
       "    <tr>\n",
       "      <th>Neutral</th>\n",
       "      <td>3142</td>\n",
       "    </tr>\n",
       "    <tr>\n",
       "      <th>Positive</th>\n",
       "      <td>2236</td>\n",
       "    </tr>\n",
       "  </tbody>\n",
       "</table>\n",
       "</div>"
      ],
      "text/plain": [
       "           text\n",
       "sentiment      \n",
       "Negative   8493\n",
       "Neutral    3142\n",
       "Positive   2236"
      ]
     },
     "execution_count": 5,
     "metadata": {
      "tags": []
     },
     "output_type": "execute_result"
    }
   ],
   "source": [
    "pd.DataFrame(df.groupby('sentiment').count()['text'])"
   ]
  },
  {
   "cell_type": "markdown",
   "metadata": {
    "colab_type": "text",
    "id": "WL4LqQE1fkHR"
   },
   "source": [
    "For simplicity, \n",
    "- we only use ```X = 'sentiment'``` and ```y = 'text'``` from the original dataframe. \n",
    "- We only look at positive (1) and negative (0) tweets."
   ]
  },
  {
   "cell_type": "code",
   "execution_count": 6,
   "metadata": {
    "colab": {
     "base_uri": "https://localhost:8080/",
     "height": 136
    },
    "colab_type": "code",
    "id": "tiJMS1ZafkHT",
    "outputId": "5158c4b5-c011-4b0a-94fb-a267053a6c18"
   },
   "outputs": [
    {
     "data": {
      "text/html": [
       "<div>\n",
       "<style scoped>\n",
       "    .dataframe tbody tr th:only-of-type {\n",
       "        vertical-align: middle;\n",
       "    }\n",
       "\n",
       "    .dataframe tbody tr th {\n",
       "        vertical-align: top;\n",
       "    }\n",
       "\n",
       "    .dataframe thead th {\n",
       "        text-align: right;\n",
       "    }\n",
       "</style>\n",
       "<table border=\"1\" class=\"dataframe\">\n",
       "  <thead>\n",
       "    <tr style=\"text-align: right;\">\n",
       "      <th></th>\n",
       "      <th>text</th>\n",
       "    </tr>\n",
       "    <tr>\n",
       "      <th>sentiment</th>\n",
       "      <th></th>\n",
       "    </tr>\n",
       "  </thead>\n",
       "  <tbody>\n",
       "    <tr>\n",
       "      <th>0</th>\n",
       "      <td>8493</td>\n",
       "    </tr>\n",
       "    <tr>\n",
       "      <th>1</th>\n",
       "      <td>2236</td>\n",
       "    </tr>\n",
       "  </tbody>\n",
       "</table>\n",
       "</div>"
      ],
      "text/plain": [
       "           text\n",
       "sentiment      \n",
       "0          8493\n",
       "1          2236"
      ]
     },
     "execution_count": 6,
     "metadata": {
      "tags": []
     },
     "output_type": "execute_result"
    }
   ],
   "source": [
    "df = df[['sentiment', 'text']]\n",
    "df = df[df['sentiment'] != 'Neutral']\n",
    "df['sentiment'] = [1 if s == \"Positive\" else 0 for s in df['sentiment']]\n",
    "df.groupby('sentiment').count()"
   ]
  },
  {
   "cell_type": "code",
   "execution_count": 7,
   "metadata": {
    "colab": {
     "base_uri": "https://localhost:8080/",
     "height": 136
    },
    "colab_type": "code",
    "id": "dF6uRJORfkHX",
    "outputId": "1013243e-2c27-416d-b886-8cc3e480b58f"
   },
   "outputs": [
    {
     "data": {
      "text/html": [
       "<div>\n",
       "<style scoped>\n",
       "    .dataframe tbody tr th:only-of-type {\n",
       "        vertical-align: middle;\n",
       "    }\n",
       "\n",
       "    .dataframe tbody tr th {\n",
       "        vertical-align: top;\n",
       "    }\n",
       "\n",
       "    .dataframe thead th {\n",
       "        text-align: right;\n",
       "    }\n",
       "</style>\n",
       "<table border=\"1\" class=\"dataframe\">\n",
       "  <thead>\n",
       "    <tr style=\"text-align: right;\">\n",
       "      <th></th>\n",
       "      <th>text</th>\n",
       "    </tr>\n",
       "    <tr>\n",
       "      <th>sentiment</th>\n",
       "      <th></th>\n",
       "    </tr>\n",
       "  </thead>\n",
       "  <tbody>\n",
       "    <tr>\n",
       "      <th>0</th>\n",
       "      <td>79.152858</td>\n",
       "    </tr>\n",
       "    <tr>\n",
       "      <th>1</th>\n",
       "      <td>20.847142</td>\n",
       "    </tr>\n",
       "  </tbody>\n",
       "</table>\n",
       "</div>"
      ],
      "text/plain": [
       "                text\n",
       "sentiment           \n",
       "0          79.152858\n",
       "1          20.847142"
      ]
     },
     "execution_count": 7,
     "metadata": {
      "tags": []
     },
     "output_type": "execute_result"
    }
   ],
   "source": [
    "train_data, test_data = train_test_split(df, test_size=0.10, random_state=42)\n",
    "train_data.index = np.arange(len(train_data))\n",
    "test_data.index = np.arange(len(test_data))\n",
    "train_data.groupby('sentiment').count().apply(lambda x: 100 * x / float(x.sum()))"
   ]
  },
  {
   "cell_type": "markdown",
   "metadata": {
    "colab_type": "text",
    "id": "IZXy_udKfkHa"
   },
   "source": [
    "### Input representations"
   ]
  },
  {
   "cell_type": "markdown",
   "metadata": {
    "colab_type": "text",
    "id": "cxCfQbRKfkHb"
   },
   "source": [
    "#### Build vocabulary\n",
    "We need to build a vocabulary using words in our training data. Any words in the test set that are not in our vocabulary will be replaced with an ```<UNK>``` token. We will also add a ```<PAD>``` token as padding.\n",
    "\n",
    "For computational purposes, we'll only take words that appeared more than 3 times."
   ]
  },
  {
   "cell_type": "code",
   "execution_count": 8,
   "metadata": {
    "colab": {
     "base_uri": "https://localhost:8080/",
     "height": 34
    },
    "colab_type": "code",
    "id": "qaZ_8lblfkHc",
    "outputId": "b0f88f5b-507f-4386-b2a7-fabe2d2cd7db"
   },
   "outputs": [
    {
     "name": "stdout",
     "output_type": "stream",
     "text": [
      "3065\n"
     ]
    }
   ],
   "source": [
    "UNK = \"<UNK>\"\n",
    "PAD = \"<PAD>\"\n",
    "\n",
    "def build_vocab(sentences, min_count=3, max_vocab=None):\n",
    "    \"\"\"\n",
    "    Build vocabulary from sentences (list of strings)\n",
    "    \"\"\"\n",
    "    # keep track of the number of appearance of each word\n",
    "    word_count = Counter()\n",
    "    \n",
    "    for sentence in sentences:\n",
    "        # Regular expression operations: [] (indicate a set of characters), \n",
    "        sentence = re.sub('[\\\\(\\[#.!?,\\'\\/\\])0-9]', ' ', sentence)\n",
    "        word_count.update(word_tokenize(sentence.lower()))\n",
    "    \n",
    "    vocabulary = list([w for w in word_count if word_count[w] > min_count]) + [UNK, PAD]\n",
    "    indices = dict(zip(vocabulary, range(len(vocabulary))))\n",
    "\n",
    "    return vocabulary, indices\n",
    "\n",
    "vocabulary, vocab_indices = build_vocab(train_data['text'])\n",
    "print(len(vocabulary))"
   ]
  },
  {
   "cell_type": "markdown",
   "metadata": {
    "colab_type": "text",
    "id": "Qo-WXkDBfkHf"
   },
   "source": [
    "## Model Time"
   ]
  },
  {
   "cell_type": "markdown",
   "metadata": {
    "colab_type": "text",
    "id": "P4vIjTqefkHg"
   },
   "source": [
    "#### Word representations\n",
    "Next, we neeed to convert each word/token in the sentences into its index in the vocabulary so that pytorch can use it. We do this for both train and test set."
   ]
  },
  {
   "cell_type": "markdown",
   "metadata": {
    "colab_type": "text",
    "id": "wvBthg06fkHh"
   },
   "source": [
    "### DataLoader"
   ]
  },
  {
   "cell_type": "code",
   "execution_count": null,
   "metadata": {
    "colab": {},
    "colab_type": "code",
    "id": "rL3LK19wfkHi"
   },
   "outputs": [],
   "source": [
    "class TweetDataset(Dataset):\n",
    "    def __init__(self, vocab_index, df, label = 'sentiment'):\n",
    "        self.vocab_index = vocab_index\n",
    "        self.df = df\n",
    "        self.label = label\n",
    "    \n",
    "    def __len__(self):\n",
    "        return len(self.df)\n",
    "    \n",
    "    def __getitem__(self, key):\n",
    "        sentence = self.df.loc[key, 'text']\n",
    "        sentence = re.sub('[\\\\(\\[#.!?,\\'\\/\\])0-9]', ' ', sentence)\n",
    "        token_indices = np.array([self.vocab_index[word] if word in self.vocab_index else self.vocab_index['<UNK>'] for word in word_tokenize(sentence.lower())])\n",
    "        return (torch.tensor(token_indices) , self.df.loc[key, self.label])\n",
    "\n",
    "\n",
    "def pad_collate(batch):\n",
    "    (xx, yy) = zip(*batch)\n",
    "    x_lens = [len(x) for x in xx]\n",
    "    \n",
    "    # I want to    eat an     apple\n",
    "    # I am   going to  sleep  PAD  \n",
    "    # batch_first: output will be in B x T x * if True, or in T x B x * otherwise\n",
    "    xx_pad = pad_sequence(xx, batch_first=True, padding_value=len(vocabulary)-1)\n",
    "\n",
    "    return torch.as_tensor(xx_pad), torch.as_tensor(x_lens), torch.LongTensor(yy)\n",
    "    \n",
    "\n",
    "BATCH_SIZE = 32\n",
    "# shuffle: set to True to have the data reshuffled at every epoch\n",
    "train_loader = DataLoader(TweetDataset(vocab_indices, train_data),\n",
    "                          batch_size=BATCH_SIZE,\n",
    "                          shuffle=True,\n",
    "                          collate_fn = pad_collate)\n",
    "test_loader = DataLoader(TweetDataset(vocab_indices, test_data),\n",
    "                         batch_size=BATCH_SIZE,\n",
    "                         shuffle=True,\n",
    "                         collate_fn = pad_collate)"
   ]
  },
  {
   "cell_type": "markdown",
   "metadata": {
    "colab_type": "text",
    "id": "D0jn38-qfkHl"
   },
   "source": [
    "### RNN"
   ]
  },
  {
   "cell_type": "markdown",
   "metadata": {
    "colab_type": "text",
    "id": "WCFvm152fkHu"
   },
   "source": [
    "For this lab, we will be exploring two variants of RNN: vanilla (or Elman) RNN and LSTM (Long-short term memory). In the following code block, please try to define your own model. Here are some hints.\n",
    "\n",
    "- Each input word is represented by a vector of dimension ```embedding_dim```. Check out ```nn.Embedding``` to see how to initialize embeddings randomly.\n",
    "- Your model should take the following input parameters\n",
    "    - ```hidden_dim```: The number of features in the hidden state h of your RNN layer\n",
    "    - ```output_dim```: Number of output classes\n",
    "    - ```vocab_size``` Size of your vocabulary. \n",
    "    - ```embedding_dim```: Dimension of word embeddings\n",
    "- Your model should consist of an RNN layer (you can use either ```nn.RNN``` or ```nn.LSTM```) followed by a linear layer.\n",
    "- $h_{0}, c_{0}$ (if you use LSTM) "
   ]
  },
  {
   "cell_type": "code",
   "execution_count": null,
   "metadata": {},
   "outputs": [],
   "source": [
    "class RNN(nn.Module):\n",
    "    def __init__(self,...):\n",
    "        super(RNN, self).__init__()\n",
    "        \n",
    "        self.emb = nn.Embedding()\n",
    "        \n",
    "        self.rnn = # rnn layer\n",
    "        self.fc =  # linear layer\n",
    "        \n",
    "    def forward(self, x, x_len):\n",
    "        x = self.emb(x)\n",
    "        \n",
    "        _, last_hidden = self.rnn(pack_padded_sequence(x, x_len, batch_first=True, enforce_sorted=False))\n",
    "        if self.rnn_fn == 'LSTM':\n",
    "            last_hidden = last_hidden[0]\n",
    "        out = self.fc(last_hidden.view(-1, self.hidden_dim))\n",
    "        return out"
   ]
  },
  {
   "cell_type": "code",
   "execution_count": 11,
   "metadata": {
    "colab": {
     "base_uri": "https://localhost:8080/",
     "height": 34
    },
    "colab_type": "code",
    "id": "t4qTu8mMd1z6",
    "outputId": "6f2f37ff-5a9c-4f6b-bdea-350b0c9125d2"
   },
   "outputs": [
    {
     "name": "stdout",
     "output_type": "stream",
     "text": [
      "Drive already mounted at /content/drive; to attempt to forcibly remount, call drive.mount(\"/content/drive\", force_remount=True).\n"
     ]
    }
   ],
   "source": [
    "from google.colab import drive\n",
    "drive.mount('/content/drive')"
   ]
  },
  {
   "cell_type": "markdown",
   "metadata": {
    "colab_type": "text",
    "id": "h8Qrx4KYfkHp"
   },
   "source": [
    "### Train and validation loop"
   ]
  },
  {
   "cell_type": "code",
   "execution_count": null,
   "metadata": {
    "colab": {},
    "colab_type": "code",
    "id": "5nc3scsLfkHq"
   },
   "outputs": [],
   "source": [
    "def train(model, train_loader=train_loader, test_loader=test_loader, \n",
    "          learning_rate=0.001, num_epoch=10, print_every=100):\n",
    "    # Training steps\n",
    "    start_time = time.time()\n",
    "    loss_fn = nn.CrossEntropyLoss()\n",
    "    optimizer = torch.optim.Adam(model.parameters(), lr=learning_rate, weight_decay=10**(-5))\n",
    "    for epoch in range(num_epoch):\n",
    "        model.train()\n",
    "        for i, (data, data_len, labels) in enumerate(train_loader):\n",
    "            data, data_len, labels = data.to(device), data_len.to(device), labels.to(device)\n",
    "            outputs = model(data, data_len)\n",
    "            model.zero_grad()\n",
    "            loss = loss_fn(outputs.squeeze(), labels)\n",
    "            loss.backward()\n",
    "            optimizer.step()\n",
    "\n",
    "             # report performance\n",
    "            if (i + 1) % print_every == 0:\n",
    "                print('Train set | epoch: {:3d} | {:6d}/{:6d} batches | Loss: {:6.4f}'.format(\n",
    "                    epoch, i + 1, len(train_loader), loss.item()))     \n",
    "    \n",
    "    # Evaluate after every epochh\n",
    "        correct = 0\n",
    "        total = 0\n",
    "        model.eval()\n",
    "\n",
    "        predictions = []\n",
    "        truths = []\n",
    "\n",
    "        with torch.no_grad():\n",
    "            for i, (data, data_len, labels) in enumerate(test_loader):\n",
    "                data, data_len, labels = data.to(device), data_len.to(device), labels.to(device)\n",
    "                outputs = model(data, data_len)\n",
    "                pred = outputs.data.max(-1)[1]\n",
    "                predictions += list(pred.cpu().numpy())\n",
    "                truths += list(labels.cpu().numpy())\n",
    "                total += labels.size(0)\n",
    "                correct += (pred == labels).sum()\n",
    "                \n",
    "            acc = (100 * correct / total)\n",
    "            auc = roc_auc_score(truths, predictions)\n",
    "            elapse = time.strftime('%H:%M:%S', time.gmtime(int((time.time() - start_time))))\n",
    "            print('Test set | Accuracy: {:6.4f} | AUC: {:4.2f} | time elapse: {:>9}'.format(\n",
    "                acc, auc, elapse))"
   ]
  },
  {
   "cell_type": "markdown",
   "metadata": {
    "colab_type": "text",
    "id": "rQMLwClifkHv"
   },
   "source": [
    "Run the code block below to check your model performance."
   ]
  },
  {
   "cell_type": "code",
   "execution_count": 13,
   "metadata": {
    "colab": {
     "base_uri": "https://localhost:8080/",
     "height": 689
    },
    "colab_type": "code",
    "id": "seXmatFEfkHw",
    "outputId": "66e275df-700d-4b40-e91b-e9a0f7e961f4",
    "scrolled": true
   },
   "outputs": [
    {
     "name": "stdout",
     "output_type": "stream",
     "text": [
      "Train set | epoch:   0 |    100/   302 batches | Loss: 0.4635\n",
      "Train set | epoch:   0 |    200/   302 batches | Loss: 0.3189\n",
      "Train set | epoch:   0 |    300/   302 batches | Loss: 0.5983\n",
      "Test set | Accuracy: 80.0000 | AUC: 0.58 | time elapse:  00:00:06\n",
      "Train set | epoch:   1 |    100/   302 batches | Loss: 0.3392\n",
      "Train set | epoch:   1 |    200/   302 batches | Loss: 0.4450\n",
      "Train set | epoch:   1 |    300/   302 batches | Loss: 0.4793\n",
      "Test set | Accuracy: 82.0000 | AUC: 0.62 | time elapse:  00:00:13\n",
      "Train set | epoch:   2 |    100/   302 batches | Loss: 0.3365\n",
      "Train set | epoch:   2 |    200/   302 batches | Loss: 0.3641\n",
      "Train set | epoch:   2 |    300/   302 batches | Loss: 0.3484\n",
      "Test set | Accuracy: 83.0000 | AUC: 0.65 | time elapse:  00:00:19\n",
      "Train set | epoch:   3 |    100/   302 batches | Loss: 0.1643\n",
      "Train set | epoch:   3 |    200/   302 batches | Loss: 0.4425\n",
      "Train set | epoch:   3 |    300/   302 batches | Loss: 0.3562\n",
      "Test set | Accuracy: 84.0000 | AUC: 0.68 | time elapse:  00:00:26\n",
      "Train set | epoch:   4 |    100/   302 batches | Loss: 0.4154\n",
      "Train set | epoch:   4 |    200/   302 batches | Loss: 0.3676\n",
      "Train set | epoch:   4 |    300/   302 batches | Loss: 0.2778\n",
      "Test set | Accuracy: 83.0000 | AUC: 0.70 | time elapse:  00:00:32\n",
      "Train set | epoch:   5 |    100/   302 batches | Loss: 0.2489\n",
      "Train set | epoch:   5 |    200/   302 batches | Loss: 0.4272\n",
      "Train set | epoch:   5 |    300/   302 batches | Loss: 0.2546\n",
      "Test set | Accuracy: 84.0000 | AUC: 0.68 | time elapse:  00:00:40\n",
      "Train set | epoch:   6 |    100/   302 batches | Loss: 0.1551\n",
      "Train set | epoch:   6 |    200/   302 batches | Loss: 0.1026\n",
      "Train set | epoch:   6 |    300/   302 batches | Loss: 0.2576\n",
      "Test set | Accuracy: 82.0000 | AUC: 0.72 | time elapse:  00:00:47\n",
      "Train set | epoch:   7 |    100/   302 batches | Loss: 0.2213\n",
      "Train set | epoch:   7 |    200/   302 batches | Loss: 0.2467\n",
      "Train set | epoch:   7 |    300/   302 batches | Loss: 0.1910\n",
      "Test set | Accuracy: 82.0000 | AUC: 0.71 | time elapse:  00:00:53\n",
      "Train set | epoch:   8 |    100/   302 batches | Loss: 0.4919\n",
      "Train set | epoch:   8 |    200/   302 batches | Loss: 0.3337\n",
      "Train set | epoch:   8 |    300/   302 batches | Loss: 0.1638\n",
      "Test set | Accuracy: 84.0000 | AUC: 0.70 | time elapse:  00:01:00\n",
      "Train set | epoch:   9 |    100/   302 batches | Loss: 0.2646\n",
      "Train set | epoch:   9 |    200/   302 batches | Loss: 0.1692\n",
      "Train set | epoch:   9 |    300/   302 batches | Loss: 0.0937\n",
      "Test set | Accuracy: 84.0000 | AUC: 0.69 | time elapse:  00:01:06\n"
     ]
    }
   ],
   "source": [
    "torch.manual_seed(42)\n",
    "rnn_model = RNN(40, 2, len(vocabulary), 50, rnn='RNN').to(device)\n",
    "train(rnn_model)"
   ]
  },
  {
   "cell_type": "code",
   "execution_count": 14,
   "metadata": {
    "colab": {
     "base_uri": "https://localhost:8080/",
     "height": 689
    },
    "colab_type": "code",
    "id": "2gzqv_ivfkHz",
    "outputId": "989c5e4e-7b21-4576-bea0-7c8f722dc289",
    "scrolled": true
   },
   "outputs": [
    {
     "name": "stdout",
     "output_type": "stream",
     "text": [
      "Train set | epoch:   0 |    100/   302 batches | Loss: 0.4167\n",
      "Train set | epoch:   0 |    200/   302 batches | Loss: 0.3450\n",
      "Train set | epoch:   0 |    300/   302 batches | Loss: 0.4007\n",
      "Test set | Accuracy: 81.0000 | AUC: 0.60 | time elapse:  00:00:10\n",
      "Train set | epoch:   1 |    100/   302 batches | Loss: 0.3189\n",
      "Train set | epoch:   1 |    200/   302 batches | Loss: 0.3637\n",
      "Train set | epoch:   1 |    300/   302 batches | Loss: 0.2246\n",
      "Test set | Accuracy: 83.0000 | AUC: 0.65 | time elapse:  00:00:20\n",
      "Train set | epoch:   2 |    100/   302 batches | Loss: 0.3572\n",
      "Train set | epoch:   2 |    200/   302 batches | Loss: 0.2935\n",
      "Train set | epoch:   2 |    300/   302 batches | Loss: 0.3853\n",
      "Test set | Accuracy: 84.0000 | AUC: 0.68 | time elapse:  00:00:29\n",
      "Train set | epoch:   3 |    100/   302 batches | Loss: 0.3494\n",
      "Train set | epoch:   3 |    200/   302 batches | Loss: 0.4252\n",
      "Train set | epoch:   3 |    300/   302 batches | Loss: 0.3681\n",
      "Test set | Accuracy: 84.0000 | AUC: 0.71 | time elapse:  00:00:40\n",
      "Train set | epoch:   4 |    100/   302 batches | Loss: 0.3237\n",
      "Train set | epoch:   4 |    200/   302 batches | Loss: 0.1399\n",
      "Train set | epoch:   4 |    300/   302 batches | Loss: 0.2048\n",
      "Test set | Accuracy: 84.0000 | AUC: 0.67 | time elapse:  00:00:50\n",
      "Train set | epoch:   5 |    100/   302 batches | Loss: 0.1737\n",
      "Train set | epoch:   5 |    200/   302 batches | Loss: 0.4224\n",
      "Train set | epoch:   5 |    300/   302 batches | Loss: 0.2759\n",
      "Test set | Accuracy: 84.0000 | AUC: 0.70 | time elapse:  00:01:00\n",
      "Train set | epoch:   6 |    100/   302 batches | Loss: 0.4989\n",
      "Train set | epoch:   6 |    200/   302 batches | Loss: 0.2393\n",
      "Train set | epoch:   6 |    300/   302 batches | Loss: 0.1829\n",
      "Test set | Accuracy: 84.0000 | AUC: 0.73 | time elapse:  00:01:10\n",
      "Train set | epoch:   7 |    100/   302 batches | Loss: 0.1493\n",
      "Train set | epoch:   7 |    200/   302 batches | Loss: 0.3311\n",
      "Train set | epoch:   7 |    300/   302 batches | Loss: 0.2550\n",
      "Test set | Accuracy: 84.0000 | AUC: 0.73 | time elapse:  00:01:20\n",
      "Train set | epoch:   8 |    100/   302 batches | Loss: 0.1343\n",
      "Train set | epoch:   8 |    200/   302 batches | Loss: 0.1487\n",
      "Train set | epoch:   8 |    300/   302 batches | Loss: 0.2923\n",
      "Test set | Accuracy: 84.0000 | AUC: 0.71 | time elapse:  00:01:30\n",
      "Train set | epoch:   9 |    100/   302 batches | Loss: 0.0874\n",
      "Train set | epoch:   9 |    200/   302 batches | Loss: 0.1124\n",
      "Train set | epoch:   9 |    300/   302 batches | Loss: 0.1787\n",
      "Test set | Accuracy: 83.0000 | AUC: 0.73 | time elapse:  00:01:40\n"
     ]
    }
   ],
   "source": [
    "lstm_model = RNN(40, 2, len(vocabulary), 50, rnn='LSTM').to(device)\n",
    "train(lstm_model)"
   ]
  },
  {
   "cell_type": "markdown",
   "metadata": {
    "colab_type": "text",
    "id": "Pz5dadxpfkH2"
   },
   "source": [
    "### Model predictions"
   ]
  },
  {
   "cell_type": "code",
   "execution_count": null,
   "metadata": {
    "colab": {},
    "colab_type": "code",
    "id": "gfn9GiRfqnx2"
   },
   "outputs": [],
   "source": [
    "def sentences_to_padded_index_sequences(words, sentences):\n",
    "    for i, s in enumerate(sentences):\n",
    "        # only take the first pad_length tokens\n",
    "        token_indices = np.array([words[w] if w in words else words['<UNK>'] for w in re.findall(r\"[\\w']+|[.,!?;]\", s.lower())])\n",
    "    return token_indices, len(token_indices)"
   ]
  },
  {
   "cell_type": "code",
   "execution_count": null,
   "metadata": {
    "colab": {},
    "colab_type": "code",
    "id": "CFHMg5TefkH3"
   },
   "outputs": [],
   "source": [
    "def test_sentence(sentence, model):\n",
    "    model.eval()\n",
    "    test_tensor, len_sent = sentences_to_padded_index_sequences(vocab_indices, [sentence])\n",
    "    score = model(torch.LongTensor(test_tensor.astype(int)).unsqueeze(0).to(device), torch.as_tensor([len_sent]).to(device)).data.numpy().squeeze()\n",
    "    label = np.argmax(score)\n",
    "    return (\"positive\" if label == 1 else \"negative\", score[label])"
   ]
  },
  {
   "cell_type": "code",
   "execution_count": 17,
   "metadata": {
    "colab": {
     "base_uri": "https://localhost:8080/",
     "height": 34
    },
    "colab_type": "code",
    "id": "xAFUwL-MfkH7",
    "outputId": "8138fecb-a7f9-4988-cd07-d4bbef2cef8a"
   },
   "outputs": [
    {
     "data": {
      "text/plain": [
       "('positive', 2.652293)"
      ]
     },
     "execution_count": 17,
     "metadata": {
      "tags": []
     },
     "output_type": "execute_result"
    }
   ],
   "source": [
    "test_sentence(\"Enjoyed the #GOPDebates and am looking forward to the #DemocraticDebates next.\", lstm_model)"
   ]
  },
  {
   "cell_type": "code",
   "execution_count": 18,
   "metadata": {
    "colab": {
     "base_uri": "https://localhost:8080/",
     "height": 34
    },
    "colab_type": "code",
    "id": "j689ttEqfkH_",
    "outputId": "b8dfb379-801e-40f1-8839-8256929f1850"
   },
   "outputs": [
    {
     "data": {
      "text/plain": [
       "('negative', 2.4175868)"
      ]
     },
     "execution_count": 18,
     "metadata": {
      "tags": []
     },
     "output_type": "execute_result"
    }
   ],
   "source": [
    "test_sentence(\"Donald Trump is a really nasty piece of work. Hope he disappears quickly. #GOPDebate\", lstm_model)"
   ]
  },
  {
   "cell_type": "markdown",
   "metadata": {
    "colab_type": "text",
    "id": "RNnHlWsFfkIB"
   },
   "source": [
    "## Word Embeddings and How to Use Them"
   ]
  },
  {
   "cell_type": "markdown",
   "metadata": {
    "colab_type": "text",
    "id": "w1MwIJMafkIC"
   },
   "source": [
    "When using deep learning methods on NLP tasks, we usually utilize [word embedding](https://en.wikipedia.org/wiki/Word_embedding). To put it briefly, word embedding represent words, or tokens, in a vocabulary as a distributed numerical vector. There are a lot of methods to obtain a word embedding, with some of the most famous shallow models being Word2Vec, GloVe, and FastText while the deeper models are BERT, RoBERTa, T5. It is not difficult to find a general purpose word embedding trained by one of the aforementioned methods on the Internet that's been trained with a massive amount of data. It is usually a good idea to use these pre-trained embedding to save yourself some time and computing resource."
   ]
  },
  {
   "cell_type": "markdown",
   "metadata": {
    "colab_type": "text",
    "id": "Ta-GpbQpfkID"
   },
   "source": [
    "In this lab, we will be using the [GloVe embedding](https://nlp.stanford.edu/projects/glove/) developed by Stanford,  one of the state-of-the-art word embedding. Please download the file ```glove.6B.50d.txt``` [here](https://drive.google.com/file/d/1JweINiA5JvTNLTm663LH8OdWssK2Kcid/view?usp=sharing)."
   ]
  },
  {
   "cell_type": "code",
   "execution_count": 19,
   "metadata": {
    "colab": {
     "base_uri": "https://localhost:8080/",
     "height": 70
    },
    "colab_type": "code",
    "id": "6ErZicnmfkIE",
    "outputId": "8e7da543-6b8d-454c-80ca-b986f0edfdba"
   },
   "outputs": [
    {
     "name": "stderr",
     "output_type": "stream",
     "text": [
      "/usr/local/lib/python3.6/dist-packages/smart_open/smart_open_lib.py:402: UserWarning: This function is deprecated, use smart_open.open instead. See the migration notes for details: https://github.com/RaRe-Technologies/smart_open/blob/master/README.rst#migrating-to-the-new-open-function\n",
      "  'See the migration notes for details: %s' % _MIGRATION_NOTES_URL\n"
     ]
    }
   ],
   "source": [
    "from gensim.scripts.glove2word2vec import glove2word2vec\n",
    "# load embedding\n",
    "\n",
    "_ = glove2word2vec('/content/drive/My Drive/data/glove.6B.50d.txt', 'tmp_file')\n",
    "glove_embedding = KeyedVectors.load_word2vec_format('tmp_file')"
   ]
  },
  {
   "cell_type": "markdown",
   "metadata": {
    "colab_type": "text",
    "id": "lGTD_re8fkIH"
   },
   "source": [
    "### Word embedding vectors"
   ]
  },
  {
   "cell_type": "markdown",
   "metadata": {
    "colab_type": "text",
    "id": "qAX0MYIqfkIH"
   },
   "source": [
    "Now we can play around with these vectors to get a sense of how word embeddings can be used to represent words. Here's how you can look up a word embedding vector."
   ]
  },
  {
   "cell_type": "markdown",
   "metadata": {
    "colab_type": "text",
    "id": "yravXPPBfkIL"
   },
   "source": [
    "### Find similar words\n",
    "\n",
    "The word embedding vectors can help us find words with similar meanings. Word similarities can be measured by [Cosine similarity](https://en.wikipedia.org/wiki/Cosine_similarity). The function below looks up the most similar words to a given word:"
   ]
  },
  {
   "cell_type": "code",
   "execution_count": 20,
   "metadata": {
    "colab": {
     "base_uri": "https://localhost:8080/",
     "height": 154
    },
    "colab_type": "code",
    "id": "PD5uELzwfkIO",
    "outputId": "a8681bba-c1f5-4554-da64-c737af3c6822"
   },
   "outputs": [
    {
     "name": "stderr",
     "output_type": "stream",
     "text": [
      "/usr/local/lib/python3.6/dist-packages/gensim/matutils.py:737: FutureWarning: Conversion of the second argument of issubdtype from `int` to `np.signedinteger` is deprecated. In future, it will be treated as `np.int64 == np.dtype(int).type`.\n",
      "  if np.issubdtype(vec.dtype, np.int):\n"
     ]
    },
    {
     "data": {
      "text/plain": [
       "[('hatred', 0.7746837139129639),\n",
       " ('shame', 0.7489537000656128),\n",
       " ('racist', 0.7371559143066406),\n",
       " ('anyone', 0.7364715933799744),\n",
       " ('bigotry', 0.7300711870193481)]"
      ]
     },
     "execution_count": 20,
     "metadata": {
      "tags": []
     },
     "output_type": "execute_result"
    }
   ],
   "source": [
    "glove_embedding.similar_by_word('hate', topn=5)"
   ]
  },
  {
   "cell_type": "markdown",
   "metadata": {
    "colab_type": "text",
    "id": "SiLnfaRHfkIR"
   },
   "source": [
    "### Word arithmetic"
   ]
  },
  {
   "cell_type": "code",
   "execution_count": 21,
   "metadata": {
    "colab": {
     "base_uri": "https://localhost:8080/",
     "height": 87
    },
    "colab_type": "code",
    "id": "eWh4FHadfkIS",
    "outputId": "ced7c845-9b3e-4ff5-f37b-77d04b0b925e"
   },
   "outputs": [
    {
     "name": "stderr",
     "output_type": "stream",
     "text": [
      "/usr/local/lib/python3.6/dist-packages/gensim/matutils.py:737: FutureWarning: Conversion of the second argument of issubdtype from `int` to `np.signedinteger` is deprecated. In future, it will be treated as `np.int64 == np.dtype(int).type`.\n",
      "  if np.issubdtype(vec.dtype, np.int):\n"
     ]
    },
    {
     "data": {
      "text/plain": [
       "[('worst', 0.8109660148620605)]"
      ]
     },
     "execution_count": 21,
     "metadata": {
      "tags": []
     },
     "output_type": "execute_result"
    }
   ],
   "source": [
    "glove_embedding.similar_by_word(glove_embedding['worse'] - glove_embedding['better'] + glove_embedding['best'], topn=1)"
   ]
  },
  {
   "cell_type": "code",
   "execution_count": 22,
   "metadata": {
    "colab": {
     "base_uri": "https://localhost:8080/",
     "height": 87
    },
    "colab_type": "code",
    "id": "aPWa4FL4fkIV",
    "outputId": "43ae9327-dca9-44f5-86f1-24a7dd0ed6f2"
   },
   "outputs": [
    {
     "name": "stderr",
     "output_type": "stream",
     "text": [
      "/usr/local/lib/python3.6/dist-packages/gensim/matutils.py:737: FutureWarning: Conversion of the second argument of issubdtype from `int` to `np.signedinteger` is deprecated. In future, it will be treated as `np.int64 == np.dtype(int).type`.\n",
      "  if np.issubdtype(vec.dtype, np.int):\n"
     ]
    },
    {
     "data": {
      "text/plain": [
       "[('king', 0.8859834671020508), ('queen', 0.8609581589698792)]"
      ]
     },
     "execution_count": 22,
     "metadata": {
      "tags": []
     },
     "output_type": "execute_result"
    }
   ],
   "source": [
    "glove_embedding.similar_by_word(glove_embedding['king'] - glove_embedding['man'] + glove_embedding['woman'], topn=2)"
   ]
  },
  {
   "cell_type": "markdown",
   "metadata": {
    "colab_type": "text",
    "id": "HVI_p6jDfkIY"
   },
   "source": [
    "### Train an LSTM model withh GloVe embedding"
   ]
  },
  {
   "cell_type": "markdown",
   "metadata": {
    "colab_type": "text",
    "id": "um2RUjFvfkIZ"
   },
   "source": [
    "Complete the code below. Replace the randomly generated embeddings withh GloVe embeddings. (Hint: check out ```nn.Embedding.weight```). "
   ]
  },
  {
   "cell_type": "code",
   "execution_count": null,
   "metadata": {
    "colab": {},
    "colab_type": "code",
    "id": "fbqo25l6fkIb"
   },
   "outputs": [],
   "source": [
    "class GloveDataset(Dataset):\n",
    "    pass\n",
    "\n",
    "def pad_collate_glove(batch):\n",
    "    pass"
   ]
  },
  {
   "cell_type": "code",
   "execution_count": null,
   "metadata": {
    "colab": {},
    "colab_type": "code",
    "id": "bZZg4ZSOfkIe"
   },
   "outputs": [],
   "source": [
    "# Re-indexing tokens\n",
    "train_loader_glove = DataLoader(GloveDataset(glove_embedding, train_data),\n",
    "                                batch_size = BATCH_SIZE,\n",
    "                                shuffle = True,\n",
    "                                collate_fn = pad_collate_glove)\n",
    "test_loader_glove = DataLoader(GloveDataset(glove_embedding, test_data),\n",
    "                               batch_size=BATCH_SIZE,\n",
    "                               shuffle=True,\n",
    "                               collate_fn = pad_collate_glove)"
   ]
  },
  {
   "cell_type": "code",
   "execution_count": 25,
   "metadata": {
    "colab": {
     "base_uri": "https://localhost:8080/",
     "height": 689
    },
    "colab_type": "code",
    "id": "4Bo2pFPqfkIh",
    "outputId": "856ef279-7a91-4c41-b79f-aa540f832471"
   },
   "outputs": [
    {
     "name": "stdout",
     "output_type": "stream",
     "text": [
      "Train set | epoch:   0 |    100/   302 batches | Loss: 0.5438\n",
      "Train set | epoch:   0 |    200/   302 batches | Loss: 0.4198\n",
      "Train set | epoch:   0 |    300/   302 batches | Loss: 0.3539\n",
      "Test set | Accuracy: 81.0000 | AUC: 0.63 | time elapse:  00:00:08\n",
      "Train set | epoch:   1 |    100/   302 batches | Loss: 0.4781\n",
      "Train set | epoch:   1 |    200/   302 batches | Loss: 0.2011\n",
      "Train set | epoch:   1 |    300/   302 batches | Loss: 0.2946\n",
      "Test set | Accuracy: 81.0000 | AUC: 0.68 | time elapse:  00:00:17\n",
      "Train set | epoch:   2 |    100/   302 batches | Loss: 0.5023\n",
      "Train set | epoch:   2 |    200/   302 batches | Loss: 0.4581\n",
      "Train set | epoch:   2 |    300/   302 batches | Loss: 0.3124\n",
      "Test set | Accuracy: 82.0000 | AUC: 0.67 | time elapse:  00:00:25\n",
      "Train set | epoch:   3 |    100/   302 batches | Loss: 0.3092\n",
      "Train set | epoch:   3 |    200/   302 batches | Loss: 0.3478\n",
      "Train set | epoch:   3 |    300/   302 batches | Loss: 0.4414\n",
      "Test set | Accuracy: 83.0000 | AUC: 0.69 | time elapse:  00:00:34\n",
      "Train set | epoch:   4 |    100/   302 batches | Loss: 0.3035\n",
      "Train set | epoch:   4 |    200/   302 batches | Loss: 0.2127\n",
      "Train set | epoch:   4 |    300/   302 batches | Loss: 0.3263\n",
      "Test set | Accuracy: 84.0000 | AUC: 0.68 | time elapse:  00:00:42\n",
      "Train set | epoch:   5 |    100/   302 batches | Loss: 0.4629\n",
      "Train set | epoch:   5 |    200/   302 batches | Loss: 0.5511\n",
      "Train set | epoch:   5 |    300/   302 batches | Loss: 0.3097\n",
      "Test set | Accuracy: 84.0000 | AUC: 0.69 | time elapse:  00:00:51\n",
      "Train set | epoch:   6 |    100/   302 batches | Loss: 0.2778\n",
      "Train set | epoch:   6 |    200/   302 batches | Loss: 0.3414\n",
      "Train set | epoch:   6 |    300/   302 batches | Loss: 0.2762\n",
      "Test set | Accuracy: 83.0000 | AUC: 0.72 | time elapse:  00:00:59\n",
      "Train set | epoch:   7 |    100/   302 batches | Loss: 0.6104\n",
      "Train set | epoch:   7 |    200/   302 batches | Loss: 0.2964\n",
      "Train set | epoch:   7 |    300/   302 batches | Loss: 0.3370\n",
      "Test set | Accuracy: 84.0000 | AUC: 0.69 | time elapse:  00:01:08\n",
      "Train set | epoch:   8 |    100/   302 batches | Loss: 0.3111\n",
      "Train set | epoch:   8 |    200/   302 batches | Loss: 0.2960\n",
      "Train set | epoch:   8 |    300/   302 batches | Loss: 0.3491\n",
      "Test set | Accuracy: 84.0000 | AUC: 0.69 | time elapse:  00:01:16\n",
      "Train set | epoch:   9 |    100/   302 batches | Loss: 0.1486\n",
      "Train set | epoch:   9 |    200/   302 batches | Loss: 0.3736\n",
      "Train set | epoch:   9 |    300/   302 batches | Loss: 0.2776\n",
      "Test set | Accuracy: 83.0000 | AUC: 0.73 | time elapse:  00:01:25\n"
     ]
    }
   ],
   "source": [
    "glove_model = RNN(40, 2, len(vocabulary), 50, rnn='LSTM')\n",
    "glove_model.emb = nn.Identity()\n",
    "train(glove_model.to(device), train_loader=train_loader_glove, test_loader=test_loader_glove)"
   ]
  },
  {
   "cell_type": "markdown",
   "metadata": {
    "colab_type": "text",
    "id": "jKwQwYI6BIwg"
   },
   "source": [
    "In the last case we just used the embedding without training it. Let's try and train the GloVe embedding to see if that increases the performance."
   ]
  },
  {
   "cell_type": "code",
   "execution_count": 27,
   "metadata": {
    "colab": {
     "base_uri": "https://localhost:8080/",
     "height": 34
    },
    "colab_type": "code",
    "id": "t-3_a6UkzZwa",
    "outputId": "5d279ed6-4e40-4bae-fb1a-de16e6be6bed"
   },
   "outputs": [
    {
     "name": "stderr",
     "output_type": "stream",
     "text": [
      "400000it [00:07, 55996.31it/s]\n"
     ]
    }
   ],
   "source": [
    "import numpy as np\n",
    "from tqdm import tqdm\n",
    "# load embedding\n",
    "emb_dim = 50\n",
    "with open('/content/drive/My Drive/data/glove.6B.50d.txt') as f:\n",
    "    glove_embedding = []\n",
    "    words = {}\n",
    "    chars = {}\n",
    "    idx2words = {}\n",
    "    ordered_words = []\n",
    "\n",
    "    for i, line in tqdm(enumerate(f)):\n",
    "        s = line.split()\n",
    "        glove_embedding.append(np.asarray(s[1:]))\n",
    "        \n",
    "        words[s[0]] = len(words)\n",
    "        idx2words[i] = s[0]\n",
    "        ordered_words.append(s[0])\n",
    "        \n",
    "# add unknown to word and char\n",
    "glove_embedding.append(np.random.rand(emb_dim))\n",
    "words[\"<UNK>\"] = len(words)\n",
    "\n",
    "# add padding\n",
    "glove_embedding.append(np.zeros(emb_dim))\n",
    "words[\"<PAD>\"] = len(words)\n",
    "\n",
    "chars[\"<UNK>\"] = len(chars)\n",
    "chars[\"<PAD>\"] = len(chars)\n",
    "\n",
    "glove_embedding = np.array(glove_embedding).astype(float)"
   ]
  },
  {
   "cell_type": "code",
   "execution_count": null,
   "metadata": {
    "colab": {},
    "colab_type": "code",
    "id": "oxEG3l-izy0N"
   },
   "outputs": [],
   "source": [
    "train_loader_glove = DataLoader(TweetDataset(words, train_data),\n",
    "                                batch_size=BATCH_SIZE,\n",
    "                                shuffle=True,\n",
    "                                collate_fn = pad_collate)\n",
    "test_loader_glove = DataLoader(TweetDataset(words, test_data),\n",
    "                               batch_size=BATCH_SIZE,\n",
    "                               shuffle=True,\n",
    "                               collate_fn = pad_collate)"
   ]
  },
  {
   "cell_type": "code",
   "execution_count": null,
   "metadata": {
    "colab": {
     "base_uri": "https://localhost:8080/",
     "height": 655
    },
    "colab_type": "code",
    "id": "64PinsMTfkIk",
    "outputId": "2e352d15-409d-492a-8b03-861873096070"
   },
   "outputs": [
    {
     "name": "stdout",
     "output_type": "stream",
     "text": [
      "Train set | epoch:   0 |    100/   302 batches | Loss: 0.4017\n",
      "Train set | epoch:   0 |    200/   302 batches | Loss: 0.5609\n",
      "Train set | epoch:   0 |    300/   302 batches | Loss: 0.3430\n",
      "Test set | Accuracy: 82.0000 | AUC: 0.63 | time elapse:  00:01:17\n",
      "Train set | epoch:   1 |    100/   302 batches | Loss: 0.3530\n",
      "Train set | epoch:   1 |    200/   302 batches | Loss: 0.2933\n",
      "Train set | epoch:   1 |    300/   302 batches | Loss: 0.2384\n",
      "Test set | Accuracy: 82.0000 | AUC: 0.69 | time elapse:  00:02:34\n",
      "Train set | epoch:   2 |    100/   302 batches | Loss: 0.2475\n",
      "Train set | epoch:   2 |    200/   302 batches | Loss: 0.4117\n",
      "Train set | epoch:   2 |    300/   302 batches | Loss: 0.2355\n",
      "Test set | Accuracy: 84.0000 | AUC: 0.69 | time elapse:  00:03:49\n",
      "Train set | epoch:   3 |    100/   302 batches | Loss: 0.4124\n",
      "Train set | epoch:   3 |    200/   302 batches | Loss: 0.2262\n",
      "Train set | epoch:   3 |    300/   302 batches | Loss: 0.2320\n",
      "Test set | Accuracy: 84.0000 | AUC: 0.71 | time elapse:  00:05:06\n",
      "Train set | epoch:   4 |    100/   302 batches | Loss: 0.0796\n",
      "Train set | epoch:   4 |    200/   302 batches | Loss: 0.1052\n",
      "Train set | epoch:   4 |    300/   302 batches | Loss: 0.2293\n",
      "Test set | Accuracy: 84.0000 | AUC: 0.71 | time elapse:  00:08:25\n",
      "Train set | epoch:   5 |    100/   302 batches | Loss: 0.1166\n",
      "Train set | epoch:   5 |    200/   302 batches | Loss: 0.1018\n",
      "Train set | epoch:   5 |    300/   302 batches | Loss: 0.1178\n",
      "Test set | Accuracy: 82.0000 | AUC: 0.73 | time elapse:  00:12:49\n",
      "Train set | epoch:   6 |    100/   302 batches | Loss: 0.1573\n",
      "Train set | epoch:   6 |    200/   302 batches | Loss: 0.0616\n",
      "Train set | epoch:   6 |    300/   302 batches | Loss: 0.1239\n",
      "Test set | Accuracy: 84.0000 | AUC: 0.72 | time elapse:  00:17:22\n",
      "Train set | epoch:   7 |    100/   302 batches | Loss: 0.0435\n",
      "Train set | epoch:   7 |    200/   302 batches | Loss: 0.0951\n",
      "Train set | epoch:   7 |    300/   302 batches | Loss: 0.1085\n",
      "Test set | Accuracy: 84.0000 | AUC: 0.70 | time elapse:  00:21:59\n",
      "Train set | epoch:   8 |    100/   302 batches | Loss: 0.0815\n",
      "Train set | epoch:   8 |    200/   302 batches | Loss: 0.1097\n",
      "Train set | epoch:   8 |    300/   302 batches | Loss: 0.0123\n",
      "Test set | Accuracy: 83.0000 | AUC: 0.67 | time elapse:  00:26:44\n",
      "Train set | epoch:   9 |    100/   302 batches | Loss: 0.0641\n",
      "Train set | epoch:   9 |    200/   302 batches | Loss: 0.1066\n"
     ]
    }
   ],
   "source": [
    "glove_model = RNN(40, 2, len(glove_embedding), 50, rnn='LSTM')\n",
    "glove_model.emb.weight.data.copy_(torch.from_numpy(glove_embedding))\n",
    "train(glove_model, train_loader=train_loader_glove, test_loader=test_loader_glove)"
   ]
  },
  {
   "cell_type": "markdown",
   "metadata": {
    "colab_type": "text",
    "id": "go446RJJBUw9"
   },
   "source": [
    "The model seems to have overfit here. We can increase the regularization through weight decay/dropout to get better results."
   ]
  }
 ],
 "metadata": {
  "accelerator": "GPU",
  "colab": {
   "collapsed_sections": [],
   "name": "lab7_solutions.ipynb",
   "provenance": []
  },
  "kernelspec": {
   "display_name": "Python 3",
   "language": "python",
   "name": "python3"
  },
  "language_info": {
   "codemirror_mode": {
    "name": "ipython",
    "version": 3
   },
   "file_extension": ".py",
   "mimetype": "text/x-python",
   "name": "python",
   "nbconvert_exporter": "python",
   "pygments_lexer": "ipython3",
   "version": "3.7.7"
  }
 },
 "nbformat": 4,
 "nbformat_minor": 4
}
